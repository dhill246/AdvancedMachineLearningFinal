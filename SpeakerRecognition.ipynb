{
 "cells": [
  {
   "cell_type": "markdown",
   "metadata": {},
   "source": [
    "# CNN Speaker Recognition using Keras/TensorFlow\n",
    "## Advanced ML Final Part 1\n",
    "### By: Daniel Hill\n",
    "\n",
    "#### Business Use Case:\n",
    "This project is part of a MS in Business Analytics program. The intention of this assignment is to be applied to a business use case. For the business use case for Part 1 of my final, I will be setting up the following fake scenario:\n",
    "\n",
    "A business has begun implementing a new system for recording meetings in light of the advances in AI. They are using a transcription tool after getting the recordings, and then feeding this through an LLM to give them a summary of the meeting. The next step of their AI meeting recording is that they would like to know who is speaking at what time. The company has recorded each of their employees saying 20 phrases. The first 10 phrases are all the same, and the second 10 are all different. The company would like to see if they can build a model on the 10 phrases that are the same to successfully identify the speaker in the second 10 phrases. \n",
    "\n",
    "The goal would be to have meetings recorded and automatically be able to categorize who is speaking. This way when the company goes back to review their meetings, they will know who said what at specific times. This will allow them to perform more granular text analysis, meeting summaries, and sentiment analysis.\n",
    "\n",
    "#### This Notebook:\n",
    "\n",
    "I will be reimplementing the code here: [Keras Speaker Recognition Example](https://keras.io/examples/audio/speaker_recognition_using_cnn/).\n",
    "\n",
    "I'm using a different dataset. The dataset I'm using can be obtained here: [Voice-Based Human Identity Recognition Dataset](https://data.mendeley.com/datasets/zw4p4p7sdh/1)."
   ]
  },
  {
   "cell_type": "code",
   "execution_count": 53,
   "metadata": {},
   "outputs": [],
   "source": [
    "# Uncomment to install the required packages:\n",
    "# !pip install -r requirements.txt"
   ]
  },
  {
   "cell_type": "code",
   "execution_count": 54,
   "metadata": {},
   "outputs": [],
   "source": [
    "# Uncomment to download the dataset\n",
    "# !curl -O https://prod-dcd-datasets-cache-zipfiles.s3.eu-west-1.amazonaws.com/zw4p4p7sdh-1.zip"
   ]
  },
  {
   "cell_type": "code",
   "execution_count": 55,
   "metadata": {},
   "outputs": [],
   "source": [
    "# Uncomment to rename the zipped file\n",
    "# !mv zw4p4p7sdh-1.zip AudioData.zip"
   ]
  },
  {
   "cell_type": "code",
   "execution_count": 56,
   "metadata": {},
   "outputs": [],
   "source": [
    "# Uncomment to unzip the dataset after you download\n",
    "# !unzip -qq AudioData.zip"
   ]
  },
  {
   "cell_type": "code",
   "execution_count": 57,
   "metadata": {},
   "outputs": [],
   "source": [
    "# imports\n",
    "import os\n",
    "import shutil\n",
    "import io\n",
    "import subprocess\n",
    "\n",
    "import numpy as np\n",
    "import pandas as pd\n",
    "import setuptools as _setuptools\n",
    "import tensorflow as tf\n",
    "import keras\n",
    "from sklearn.metrics import ConfusionMatrixDisplay, confusion_matrix\n",
    "\n",
    "from pathlib import Path\n",
    "from IPython.display import display, Audio\n",
    "from pydub import AudioSegment\n",
    "import soundfile as sf\n",
    "import matplotlib.pyplot as plt"
   ]
  },
  {
   "cell_type": "markdown",
   "metadata": {},
   "source": [
    "In the voice recognition dataset, they have a folder storing noise. Additionally, they have one repository of speaker data and they do a train-test split within that. I will be modifying this approach slightly."
   ]
  },
  {
   "cell_type": "markdown",
   "metadata": {},
   "source": [
    "## Setup\n",
    "\n",
    "We will create some global variables that will be unchanged throughout the rest of the notebook."
   ]
  },
  {
   "cell_type": "code",
   "execution_count": 58,
   "metadata": {},
   "outputs": [],
   "source": [
    "# Define global variables where the data is stored\n",
    "TRAIN_DATA_FOLDER = \"AudioData/samePhrase\"\n",
    "TEST_DATA_FOLDER = \"AudioData/differentPhrase\"\n",
    "\n",
    "# This was set to 1500 because there are 1500 samples in the\n",
    "# example's dataset. This should be changed to the number of samples?\n",
    "SAMPLING_RATE = 1500\n",
    "\n",
    "# Seed to use when shuffling the dataset\n",
    "SHUFFLE_SEED = 43\n",
    "\n",
    "# Set batch size for\n",
    "BATCH_SIZE = 128\n",
    "\n",
    "# Set epochs for model training\n",
    "EPOCHS = 1"
   ]
  },
  {
   "cell_type": "markdown",
   "metadata": {},
   "source": [
    "## Dataset Generation"
   ]
  },
  {
   "cell_type": "markdown",
   "metadata": {},
   "source": [
    "We need a few functions to be defined to help us get the data into the correct format.\n",
    "- First, the data is currently in .flac files. The code example we are following expects everything as .wav files. We will create a function to modify this into .wav format.\n",
    "- Second, we need to use the flac to wav function to iterate through all the files and convert them.\n",
    "- Third, we need to read these into a TensorFlow usable format.\n",
    "- Fourth we need to create data frames to store these usable formats."
   ]
  },
  {
   "cell_type": "code",
   "execution_count": 59,
   "metadata": {},
   "outputs": [],
   "source": [
    "# Step 1: Convert .flac to .wav\n",
    "def convert_flac_to_wav(input_flac, output_wav):\n",
    "\n",
    "    # Define the output directory\n",
    "    output_dir = os.path.dirname(output_wav)\n",
    "\n",
    "    # If the output directory does not exist, make it.\n",
    "    if not os.path.exists(output_dir):\n",
    "        os.makedirs(output_dir)\n",
    "\n",
    "    # Read the flac file.\n",
    "    audio = AudioSegment.from_file(input_flac, format=\"flac\")\n",
    "\n",
    "    # Set sample width to 2 bytes (16 bits)\n",
    "    audio = audio.set_sample_width(2)\n",
    "\n",
    "    # Export the audio in .wav format.\n",
    "    audio.export(output_wav, format=\"wav\")"
   ]
  },
  {
   "cell_type": "code",
   "execution_count": 60,
   "metadata": {},
   "outputs": [],
   "source": [
    "# Define the folder where the processed audio will live\n",
    "final_folder = \"AudioData\"\n",
    "\n",
    "# Set the folder to pull the unprocessed audio from\n",
    "parent_folder = \"A Dataset for Voice-Based Human Identity Recognition\"\n",
    "\n",
    "# Loop through the parent folder\n",
    "for folder in os.listdir(parent_folder):\n",
    "\n",
    "    # Ignore the speakers.csv file:\n",
    "    if folder != \"speakers.csv\":\n",
    "\n",
    "        # Join the parent folder to the current folder to creat the sub path\n",
    "        sub_path = os.path.join(parent_folder, folder)\n",
    "\n",
    "        # Loop through files in the subfolder\n",
    "        for subfolder in os.listdir(sub_path):\n",
    "\n",
    "            # Create a full path joining the subpath to the subfolder\n",
    "            full_path = os.path.join(sub_path, subfolder)\n",
    "\n",
    "            # Loop through the base level directory of audio files\n",
    "            for file in os.listdir(full_path):\n",
    "\n",
    "                # Create the most granular file path\n",
    "                path_with_file = os.path.join(full_path, file)\n",
    "\n",
    "                # Take off the end and append .wav instead of .flac\n",
    "                final_file_name = file.split(\".\")[0]+\".wav\"\n",
    "\n",
    "                # Use the convert function to convert the file to a wav file.\n",
    "                convert_flac_to_wav(path_with_file, os.path.join(final_folder, folder, subfolder, final_file_name))"
   ]
  },
  {
   "cell_type": "code",
   "execution_count": 61,
   "metadata": {},
   "outputs": [],
   "source": [
    "# Read and decode an audio file using tensorflow\n",
    "def path_to_audio(path):\n",
    "    \"\"\"Reads and decodes an audio file.\"\"\"\n",
    "    # Read the file\n",
    "    audio = tf.io.read_file(path)\n",
    "\n",
    "    # Decode the audio using the sampling rate we defined before\n",
    "    audio, _ = tf.audio.decode_wav(audio, 1, SAMPLING_RATE)\n",
    "\n",
    "    # Return the raw audio file\n",
    "    return audio"
   ]
  },
  {
   "cell_type": "code",
   "execution_count": 62,
   "metadata": {},
   "outputs": [],
   "source": [
    "# Create a dataset of audio and labels\n",
    "def paths_and_labels_to_dataset(audio_paths, labels):\n",
    "    \"\"\"Constructs a dataset of audios and labels.\"\"\"\n",
    "\n",
    "    # Get the audio paths\n",
    "    path_ds = tf.data.Dataset.from_tensor_slices(audio_paths)\n",
    "\n",
    "    # Create a dataset from these paths\n",
    "    audio_ds = path_ds.map(\n",
    "        lambda x: path_to_audio(x), num_parallel_calls=tf.data.AUTOTUNE\n",
    "    )\n",
    "    \n",
    "    # Create a label dataset from the labels\n",
    "    label_ds = tf.data.Dataset.from_tensor_slices(labels)\n",
    "\n",
    "    return tf.data.Dataset.zip((audio_ds, label_ds))"
   ]
  },
  {
   "cell_type": "code",
   "execution_count": 63,
   "metadata": {},
   "outputs": [],
   "source": [
    "def audio_to_fft(audio):\n",
    "    \n",
    "    # Since tf.signal.fft applies FFT on the innermost dimension,\n",
    "    # we need to squeeze the dimensions and then expand them again\n",
    "    # after FFT\n",
    "    audio = tf.squeeze(audio, axis=-1)\n",
    "    fft = tf.signal.fft(\n",
    "        tf.cast(tf.complex(real=audio, imag=tf.zeros_like(audio)), tf.complex64)\n",
    "    )\n",
    "    fft = tf.expand_dims(fft, axis=-1)\n",
    "\n",
    "    # Return the absolute value of the first half of the FFT\n",
    "    # which represents the positive frequencies\n",
    "    return tf.math.abs(fft[:, : (audio.shape[1] // 2), :])"
   ]
  },
  {
   "cell_type": "code",
   "execution_count": 64,
   "metadata": {},
   "outputs": [
    {
     "name": "stdout",
     "output_type": "stream",
     "text": [
      "Train class names: ['135', '61', '95', '132', '59', '92', '66', '104', '50', '68', '103', '57', '150', '32', '35', '102', '69', '56', '105', '51', '58', '133', '67', '93', '134', '94', '60', '34', '33', '20', '18', '27', '9', '145', '11', '142', '7', '29', '16', '129', '42', '89', '116', '45', '111', '73', '118', '87', '127', '80', '74', '120', '6', '28', '143', '17', '144', '1', '10', '19', '26', '8', '21', '75', '81', '121', '119', '86', '72', '126', '44', '110', '43', '128', '88', '117', '38', '36', '31', '131', '91', '65', '136', '62', '96', '109', '100', '54', '107', '98', '138', '53', '30', '37', '39', '106', '99', '52', '139', '101', '55', '137', '97', '108', '63', '130', '64', '90', '46', '79', '112', '41', '115', '83', '77', '123', '48', '70', '84', '124', '24', '148', '23', '141', '4', '15', '3', '146', '12', '85', '71', '125', '76', '82', '49', '122', '40', '114', '47', '113', '78', '147', '2', '13', '5', '140', '14', '22', '149', '25']\n"
     ]
    }
   ],
   "source": [
    "# Create the training class names by getting the list of folders within the training data folder\n",
    "train_class_names = os.listdir(TRAIN_DATA_FOLDER)\n",
    "print(\n",
    "    \"Train class names: {}\".format(\n",
    "        train_class_names,\n",
    "    )\n",
    ")"
   ]
  },
  {
   "cell_type": "code",
   "execution_count": 65,
   "metadata": {},
   "outputs": [
    {
     "name": "stdout",
     "output_type": "stream",
     "text": [
      "Found 1500 files belonging to 1500 classes.\n"
     ]
    }
   ],
   "source": [
    "# Get all labels and process the audio\n",
    "\n",
    "# Initialize empty list to store path to audio\n",
    "train_audio_paths = []\n",
    "\n",
    "# Initialize empty list to store training set labels\n",
    "train_labels = []\n",
    "\n",
    "# Iterate through the training class names\n",
    "for label, name in enumerate(train_class_names):\n",
    "\n",
    "    # Create the final path\n",
    "    dir_path = Path(TRAIN_DATA_FOLDER) / name\n",
    "\n",
    "    # Create the path only if the file ends with .wav\n",
    "    speaker_sample_paths = [\n",
    "        os.path.join(dir_path, filepath)\n",
    "        for filepath in os.listdir(dir_path)\n",
    "        if filepath.endswith(\".wav\")\n",
    "    ]\n",
    "\n",
    "    # Add the sample paths to the end of the training audio paths\n",
    "    train_audio_paths += speaker_sample_paths\n",
    "\n",
    "    # Add the label to the labels for however many speaker paths there were\n",
    "    train_labels += [label] * len(speaker_sample_paths)\n",
    "\n",
    "# Summarize the process that was just done.\n",
    "print(\n",
    "    \"Found {} files belonging to {} classes.\".format(len(train_audio_paths), len(train_labels))\n",
    ")\n"
   ]
  },
  {
   "cell_type": "code",
   "execution_count": 66,
   "metadata": {},
   "outputs": [
    {
     "name": "stdout",
     "output_type": "stream",
     "text": [
      "Found 1500 files belonging to 150 classes.\n"
     ]
    }
   ],
   "source": [
    "# Get all testing labels and process the audio\n",
    "\n",
    "# Initialize empty list to store path to test audio\n",
    "test_audio_paths = []\n",
    "\n",
    "# Initialize empty list to store testing set labels\n",
    "test_labels = []\n",
    "\n",
    "# Iterate through the training class names (still training because all the names are the same)\n",
    "for label, name in enumerate(train_class_names):\n",
    "    \n",
    "    # Create the final path    \n",
    "    dir_path = Path(TEST_DATA_FOLDER) / name\n",
    "\n",
    "    # Create the path only if the file ends with .wav\n",
    "    speaker_sample_paths = [\n",
    "        os.path.join(dir_path, filepath)\n",
    "        for filepath in os.listdir(dir_path)\n",
    "        if filepath.endswith(\".wav\")\n",
    "    ]\n",
    "\n",
    "    # Add the sample paths to the end of the testing audio paths\n",
    "    test_audio_paths += speaker_sample_paths\n",
    "\n",
    "    # Add the label to the labels for however many speaker paths there were\n",
    "    test_labels += [label] * len(speaker_sample_paths)\n",
    "\n",
    "# Summarize the process that was just done.\n",
    "print(\n",
    "    \"Found {} files belonging to {} classes.\".format(len(test_audio_paths), len(train_class_names))\n",
    ")"
   ]
  },
  {
   "cell_type": "code",
   "execution_count": 67,
   "metadata": {},
   "outputs": [],
   "source": [
    "# Shuffle training set\n",
    "rng = np.random.RandomState(SHUFFLE_SEED)\n",
    "rng.shuffle(train_audio_paths)\n",
    "\n",
    "# Shuffle the training labels\n",
    "rng = np.random.RandomState(SHUFFLE_SEED)\n",
    "rng.shuffle(train_labels)\n",
    "\n",
    "\n",
    "# Shuffle testing set\n",
    "rng = np.random.RandomState(SHUFFLE_SEED)\n",
    "rng.shuffle(test_audio_paths)\n",
    "\n",
    "# Shuffle the testing labels\n",
    "rng = np.random.RandomState(SHUFFLE_SEED)\n",
    "rng.shuffle(test_labels)"
   ]
  },
  {
   "cell_type": "code",
   "execution_count": 68,
   "metadata": {},
   "outputs": [],
   "source": [
    "# Create 2 datasets, one for training and the other for validation\n",
    "train_ds = paths_and_labels_to_dataset(train_audio_paths, train_labels)\n",
    "train_ds = train_ds.shuffle(buffer_size=BATCH_SIZE * 8, seed=SHUFFLE_SEED).batch(\n",
    "    BATCH_SIZE\n",
    ")\n",
    "\n",
    "valid_ds = paths_and_labels_to_dataset(test_audio_paths, test_labels)\n",
    "valid_ds = valid_ds.shuffle(buffer_size=32 * 8, seed=SHUFFLE_SEED).batch(32)"
   ]
  },
  {
   "cell_type": "code",
   "execution_count": 69,
   "metadata": {},
   "outputs": [],
   "source": [
    "# Transform audio wave to the frequency domain using `audio_to_fft`\n",
    "train_ds = train_ds.map(\n",
    "    lambda x, y: (audio_to_fft(x), y), num_parallel_calls=tf.data.AUTOTUNE\n",
    ")\n",
    "train_ds = train_ds.prefetch(tf.data.AUTOTUNE)\n",
    "\n",
    "valid_ds = valid_ds.map(\n",
    "    lambda x, y: (audio_to_fft(x), y), num_parallel_calls=tf.data.AUTOTUNE\n",
    ")\n",
    "valid_ds = valid_ds.prefetch(tf.data.AUTOTUNE)"
   ]
  },
  {
   "cell_type": "markdown",
   "metadata": {},
   "source": [
    "## Model Definition"
   ]
  },
  {
   "cell_type": "code",
   "execution_count": 70,
   "metadata": {},
   "outputs": [],
   "source": [
    "def residual_block(x, filters, conv_num=3, activation=\"relu\"):\n",
    "    # Add 1 dimensional convolutional layer\n",
    "    s = keras.layers.Conv1D(filters, 1, padding=\"same\")(x)\n",
    "\n",
    "    # Add as many convolutional layers as passed to conv_number\n",
    "    for i in range(conv_num - 1):\n",
    "        x = keras.layers.Conv1D(filters, 3, padding=\"same\")(x)\n",
    "        x = keras.layers.Activation(activation)(x)\n",
    "    x = keras.layers.Conv1D(filters, 3, padding=\"same\")(x)\n",
    "    x = keras.layers.Add()([x, s])\n",
    "    x = keras.layers.Activation(activation)(x)\n",
    "    return keras.layers.MaxPool1D(pool_size=2, strides=2)(x)\n",
    "\n",
    "# Build the model\n",
    "def build_model(input_shape, num_classes):\n",
    "\n",
    "    # Define input layer based on input shape\n",
    "    inputs = keras.layers.Input(shape=input_shape, name=\"input\")\n",
    "\n",
    "    # Call residual block function to construct the model\n",
    "    x = residual_block(inputs, 16, 2)\n",
    "    x = residual_block(x, 32, 2)\n",
    "    x = residual_block(x, 64, 3)\n",
    "    x = residual_block(x, 128, 3)\n",
    "    x = residual_block(x, 128, 3)\n",
    "\n",
    "    # Finalize the model by pooling and flattening, then feeding into 2 final dense layers.\n",
    "    x = keras.layers.AveragePooling1D(pool_size=3, strides=3)(x)\n",
    "    x = keras.layers.Flatten()(x)\n",
    "    x = keras.layers.Dense(256, activation=\"relu\")(x)\n",
    "    x = keras.layers.Dense(128, activation=\"relu\")(x)\n",
    "\n",
    "    # Output predictions based on the number of classes\n",
    "    outputs = keras.layers.Dense(num_classes, activation=\"softmax\", name=\"output\")(x)\n",
    "\n",
    "    # Return the constructed model\n",
    "    return keras.models.Model(inputs=inputs, outputs=outputs)"
   ]
  },
  {
   "cell_type": "code",
   "execution_count": 88,
   "metadata": {},
   "outputs": [
    {
     "data": {
      "text/html": [
       "<pre style=\"white-space:pre;overflow-x:auto;line-height:normal;font-family:Menlo,'DejaVu Sans Mono',consolas,'Courier New',monospace\"><span style=\"font-weight: bold\">Model: \"functional_7\"</span>\n",
       "</pre>\n"
      ],
      "text/plain": [
       "\u001b[1mModel: \"functional_7\"\u001b[0m\n"
      ]
     },
     "metadata": {},
     "output_type": "display_data"
    },
    {
     "data": {
      "text/html": [
       "<pre style=\"white-space:pre;overflow-x:auto;line-height:normal;font-family:Menlo,'DejaVu Sans Mono',consolas,'Courier New',monospace\">┏━━━━━━━━━━━━━━━━━━━━━┳━━━━━━━━━━━━━━━━━━━┳━━━━━━━━━━━━┳━━━━━━━━━━━━━━━━━━━┓\n",
       "┃<span style=\"font-weight: bold\"> Layer (type)        </span>┃<span style=\"font-weight: bold\"> Output Shape      </span>┃<span style=\"font-weight: bold\">    Param # </span>┃<span style=\"font-weight: bold\"> Connected to      </span>┃\n",
       "┡━━━━━━━━━━━━━━━━━━━━━╇━━━━━━━━━━━━━━━━━━━╇━━━━━━━━━━━━╇━━━━━━━━━━━━━━━━━━━┩\n",
       "│ input (<span style=\"color: #0087ff; text-decoration-color: #0087ff\">InputLayer</span>)  │ (<span style=\"color: #00d7ff; text-decoration-color: #00d7ff\">None</span>, <span style=\"color: #00af00; text-decoration-color: #00af00\">750</span>, <span style=\"color: #00af00; text-decoration-color: #00af00\">1</span>)    │          <span style=\"color: #00af00; text-decoration-color: #00af00\">0</span> │ -                 │\n",
       "├─────────────────────┼───────────────────┼────────────┼───────────────────┤\n",
       "│ conv1d_55 (<span style=\"color: #0087ff; text-decoration-color: #0087ff\">Conv1D</span>)  │ (<span style=\"color: #00d7ff; text-decoration-color: #00d7ff\">None</span>, <span style=\"color: #00af00; text-decoration-color: #00af00\">750</span>, <span style=\"color: #00af00; text-decoration-color: #00af00\">16</span>)   │         <span style=\"color: #00af00; text-decoration-color: #00af00\">64</span> │ input[<span style=\"color: #00af00; text-decoration-color: #00af00\">0</span>][<span style=\"color: #00af00; text-decoration-color: #00af00\">0</span>]       │\n",
       "├─────────────────────┼───────────────────┼────────────┼───────────────────┤\n",
       "│ activation_39       │ (<span style=\"color: #00d7ff; text-decoration-color: #00d7ff\">None</span>, <span style=\"color: #00af00; text-decoration-color: #00af00\">750</span>, <span style=\"color: #00af00; text-decoration-color: #00af00\">16</span>)   │          <span style=\"color: #00af00; text-decoration-color: #00af00\">0</span> │ conv1d_55[<span style=\"color: #00af00; text-decoration-color: #00af00\">0</span>][<span style=\"color: #00af00; text-decoration-color: #00af00\">0</span>]   │\n",
       "│ (<span style=\"color: #0087ff; text-decoration-color: #0087ff\">Activation</span>)        │                   │            │                   │\n",
       "├─────────────────────┼───────────────────┼────────────┼───────────────────┤\n",
       "│ conv1d_56 (<span style=\"color: #0087ff; text-decoration-color: #0087ff\">Conv1D</span>)  │ (<span style=\"color: #00d7ff; text-decoration-color: #00d7ff\">None</span>, <span style=\"color: #00af00; text-decoration-color: #00af00\">750</span>, <span style=\"color: #00af00; text-decoration-color: #00af00\">16</span>)   │        <span style=\"color: #00af00; text-decoration-color: #00af00\">784</span> │ activation_39[<span style=\"color: #00af00; text-decoration-color: #00af00\">0</span>]… │\n",
       "├─────────────────────┼───────────────────┼────────────┼───────────────────┤\n",
       "│ conv1d_54 (<span style=\"color: #0087ff; text-decoration-color: #0087ff\">Conv1D</span>)  │ (<span style=\"color: #00d7ff; text-decoration-color: #00d7ff\">None</span>, <span style=\"color: #00af00; text-decoration-color: #00af00\">750</span>, <span style=\"color: #00af00; text-decoration-color: #00af00\">16</span>)   │         <span style=\"color: #00af00; text-decoration-color: #00af00\">32</span> │ input[<span style=\"color: #00af00; text-decoration-color: #00af00\">0</span>][<span style=\"color: #00af00; text-decoration-color: #00af00\">0</span>]       │\n",
       "├─────────────────────┼───────────────────┼────────────┼───────────────────┤\n",
       "│ add_15 (<span style=\"color: #0087ff; text-decoration-color: #0087ff\">Add</span>)        │ (<span style=\"color: #00d7ff; text-decoration-color: #00d7ff\">None</span>, <span style=\"color: #00af00; text-decoration-color: #00af00\">750</span>, <span style=\"color: #00af00; text-decoration-color: #00af00\">16</span>)   │          <span style=\"color: #00af00; text-decoration-color: #00af00\">0</span> │ conv1d_56[<span style=\"color: #00af00; text-decoration-color: #00af00\">0</span>][<span style=\"color: #00af00; text-decoration-color: #00af00\">0</span>],  │\n",
       "│                     │                   │            │ conv1d_54[<span style=\"color: #00af00; text-decoration-color: #00af00\">0</span>][<span style=\"color: #00af00; text-decoration-color: #00af00\">0</span>]   │\n",
       "├─────────────────────┼───────────────────┼────────────┼───────────────────┤\n",
       "│ activation_40       │ (<span style=\"color: #00d7ff; text-decoration-color: #00d7ff\">None</span>, <span style=\"color: #00af00; text-decoration-color: #00af00\">750</span>, <span style=\"color: #00af00; text-decoration-color: #00af00\">16</span>)   │          <span style=\"color: #00af00; text-decoration-color: #00af00\">0</span> │ add_15[<span style=\"color: #00af00; text-decoration-color: #00af00\">0</span>][<span style=\"color: #00af00; text-decoration-color: #00af00\">0</span>]      │\n",
       "│ (<span style=\"color: #0087ff; text-decoration-color: #0087ff\">Activation</span>)        │                   │            │                   │\n",
       "├─────────────────────┼───────────────────┼────────────┼───────────────────┤\n",
       "│ max_pooling1d_15    │ (<span style=\"color: #00d7ff; text-decoration-color: #00d7ff\">None</span>, <span style=\"color: #00af00; text-decoration-color: #00af00\">375</span>, <span style=\"color: #00af00; text-decoration-color: #00af00\">16</span>)   │          <span style=\"color: #00af00; text-decoration-color: #00af00\">0</span> │ activation_40[<span style=\"color: #00af00; text-decoration-color: #00af00\">0</span>]… │\n",
       "│ (<span style=\"color: #0087ff; text-decoration-color: #0087ff\">MaxPooling1D</span>)      │                   │            │                   │\n",
       "├─────────────────────┼───────────────────┼────────────┼───────────────────┤\n",
       "│ conv1d_58 (<span style=\"color: #0087ff; text-decoration-color: #0087ff\">Conv1D</span>)  │ (<span style=\"color: #00d7ff; text-decoration-color: #00d7ff\">None</span>, <span style=\"color: #00af00; text-decoration-color: #00af00\">375</span>, <span style=\"color: #00af00; text-decoration-color: #00af00\">32</span>)   │      <span style=\"color: #00af00; text-decoration-color: #00af00\">1,568</span> │ max_pooling1d_15… │\n",
       "├─────────────────────┼───────────────────┼────────────┼───────────────────┤\n",
       "│ activation_41       │ (<span style=\"color: #00d7ff; text-decoration-color: #00d7ff\">None</span>, <span style=\"color: #00af00; text-decoration-color: #00af00\">375</span>, <span style=\"color: #00af00; text-decoration-color: #00af00\">32</span>)   │          <span style=\"color: #00af00; text-decoration-color: #00af00\">0</span> │ conv1d_58[<span style=\"color: #00af00; text-decoration-color: #00af00\">0</span>][<span style=\"color: #00af00; text-decoration-color: #00af00\">0</span>]   │\n",
       "│ (<span style=\"color: #0087ff; text-decoration-color: #0087ff\">Activation</span>)        │                   │            │                   │\n",
       "├─────────────────────┼───────────────────┼────────────┼───────────────────┤\n",
       "│ conv1d_59 (<span style=\"color: #0087ff; text-decoration-color: #0087ff\">Conv1D</span>)  │ (<span style=\"color: #00d7ff; text-decoration-color: #00d7ff\">None</span>, <span style=\"color: #00af00; text-decoration-color: #00af00\">375</span>, <span style=\"color: #00af00; text-decoration-color: #00af00\">32</span>)   │      <span style=\"color: #00af00; text-decoration-color: #00af00\">3,104</span> │ activation_41[<span style=\"color: #00af00; text-decoration-color: #00af00\">0</span>]… │\n",
       "├─────────────────────┼───────────────────┼────────────┼───────────────────┤\n",
       "│ conv1d_57 (<span style=\"color: #0087ff; text-decoration-color: #0087ff\">Conv1D</span>)  │ (<span style=\"color: #00d7ff; text-decoration-color: #00d7ff\">None</span>, <span style=\"color: #00af00; text-decoration-color: #00af00\">375</span>, <span style=\"color: #00af00; text-decoration-color: #00af00\">32</span>)   │        <span style=\"color: #00af00; text-decoration-color: #00af00\">544</span> │ max_pooling1d_15… │\n",
       "├─────────────────────┼───────────────────┼────────────┼───────────────────┤\n",
       "│ add_16 (<span style=\"color: #0087ff; text-decoration-color: #0087ff\">Add</span>)        │ (<span style=\"color: #00d7ff; text-decoration-color: #00d7ff\">None</span>, <span style=\"color: #00af00; text-decoration-color: #00af00\">375</span>, <span style=\"color: #00af00; text-decoration-color: #00af00\">32</span>)   │          <span style=\"color: #00af00; text-decoration-color: #00af00\">0</span> │ conv1d_59[<span style=\"color: #00af00; text-decoration-color: #00af00\">0</span>][<span style=\"color: #00af00; text-decoration-color: #00af00\">0</span>],  │\n",
       "│                     │                   │            │ conv1d_57[<span style=\"color: #00af00; text-decoration-color: #00af00\">0</span>][<span style=\"color: #00af00; text-decoration-color: #00af00\">0</span>]   │\n",
       "├─────────────────────┼───────────────────┼────────────┼───────────────────┤\n",
       "│ activation_42       │ (<span style=\"color: #00d7ff; text-decoration-color: #00d7ff\">None</span>, <span style=\"color: #00af00; text-decoration-color: #00af00\">375</span>, <span style=\"color: #00af00; text-decoration-color: #00af00\">32</span>)   │          <span style=\"color: #00af00; text-decoration-color: #00af00\">0</span> │ add_16[<span style=\"color: #00af00; text-decoration-color: #00af00\">0</span>][<span style=\"color: #00af00; text-decoration-color: #00af00\">0</span>]      │\n",
       "│ (<span style=\"color: #0087ff; text-decoration-color: #0087ff\">Activation</span>)        │                   │            │                   │\n",
       "├─────────────────────┼───────────────────┼────────────┼───────────────────┤\n",
       "│ max_pooling1d_16    │ (<span style=\"color: #00d7ff; text-decoration-color: #00d7ff\">None</span>, <span style=\"color: #00af00; text-decoration-color: #00af00\">187</span>, <span style=\"color: #00af00; text-decoration-color: #00af00\">32</span>)   │          <span style=\"color: #00af00; text-decoration-color: #00af00\">0</span> │ activation_42[<span style=\"color: #00af00; text-decoration-color: #00af00\">0</span>]… │\n",
       "│ (<span style=\"color: #0087ff; text-decoration-color: #0087ff\">MaxPooling1D</span>)      │                   │            │                   │\n",
       "├─────────────────────┼───────────────────┼────────────┼───────────────────┤\n",
       "│ conv1d_61 (<span style=\"color: #0087ff; text-decoration-color: #0087ff\">Conv1D</span>)  │ (<span style=\"color: #00d7ff; text-decoration-color: #00d7ff\">None</span>, <span style=\"color: #00af00; text-decoration-color: #00af00\">187</span>, <span style=\"color: #00af00; text-decoration-color: #00af00\">64</span>)   │      <span style=\"color: #00af00; text-decoration-color: #00af00\">6,208</span> │ max_pooling1d_16… │\n",
       "├─────────────────────┼───────────────────┼────────────┼───────────────────┤\n",
       "│ activation_43       │ (<span style=\"color: #00d7ff; text-decoration-color: #00d7ff\">None</span>, <span style=\"color: #00af00; text-decoration-color: #00af00\">187</span>, <span style=\"color: #00af00; text-decoration-color: #00af00\">64</span>)   │          <span style=\"color: #00af00; text-decoration-color: #00af00\">0</span> │ conv1d_61[<span style=\"color: #00af00; text-decoration-color: #00af00\">0</span>][<span style=\"color: #00af00; text-decoration-color: #00af00\">0</span>]   │\n",
       "│ (<span style=\"color: #0087ff; text-decoration-color: #0087ff\">Activation</span>)        │                   │            │                   │\n",
       "├─────────────────────┼───────────────────┼────────────┼───────────────────┤\n",
       "│ conv1d_62 (<span style=\"color: #0087ff; text-decoration-color: #0087ff\">Conv1D</span>)  │ (<span style=\"color: #00d7ff; text-decoration-color: #00d7ff\">None</span>, <span style=\"color: #00af00; text-decoration-color: #00af00\">187</span>, <span style=\"color: #00af00; text-decoration-color: #00af00\">64</span>)   │     <span style=\"color: #00af00; text-decoration-color: #00af00\">12,352</span> │ activation_43[<span style=\"color: #00af00; text-decoration-color: #00af00\">0</span>]… │\n",
       "├─────────────────────┼───────────────────┼────────────┼───────────────────┤\n",
       "│ activation_44       │ (<span style=\"color: #00d7ff; text-decoration-color: #00d7ff\">None</span>, <span style=\"color: #00af00; text-decoration-color: #00af00\">187</span>, <span style=\"color: #00af00; text-decoration-color: #00af00\">64</span>)   │          <span style=\"color: #00af00; text-decoration-color: #00af00\">0</span> │ conv1d_62[<span style=\"color: #00af00; text-decoration-color: #00af00\">0</span>][<span style=\"color: #00af00; text-decoration-color: #00af00\">0</span>]   │\n",
       "│ (<span style=\"color: #0087ff; text-decoration-color: #0087ff\">Activation</span>)        │                   │            │                   │\n",
       "├─────────────────────┼───────────────────┼────────────┼───────────────────┤\n",
       "│ conv1d_63 (<span style=\"color: #0087ff; text-decoration-color: #0087ff\">Conv1D</span>)  │ (<span style=\"color: #00d7ff; text-decoration-color: #00d7ff\">None</span>, <span style=\"color: #00af00; text-decoration-color: #00af00\">187</span>, <span style=\"color: #00af00; text-decoration-color: #00af00\">64</span>)   │     <span style=\"color: #00af00; text-decoration-color: #00af00\">12,352</span> │ activation_44[<span style=\"color: #00af00; text-decoration-color: #00af00\">0</span>]… │\n",
       "├─────────────────────┼───────────────────┼────────────┼───────────────────┤\n",
       "│ conv1d_60 (<span style=\"color: #0087ff; text-decoration-color: #0087ff\">Conv1D</span>)  │ (<span style=\"color: #00d7ff; text-decoration-color: #00d7ff\">None</span>, <span style=\"color: #00af00; text-decoration-color: #00af00\">187</span>, <span style=\"color: #00af00; text-decoration-color: #00af00\">64</span>)   │      <span style=\"color: #00af00; text-decoration-color: #00af00\">2,112</span> │ max_pooling1d_16… │\n",
       "├─────────────────────┼───────────────────┼────────────┼───────────────────┤\n",
       "│ add_17 (<span style=\"color: #0087ff; text-decoration-color: #0087ff\">Add</span>)        │ (<span style=\"color: #00d7ff; text-decoration-color: #00d7ff\">None</span>, <span style=\"color: #00af00; text-decoration-color: #00af00\">187</span>, <span style=\"color: #00af00; text-decoration-color: #00af00\">64</span>)   │          <span style=\"color: #00af00; text-decoration-color: #00af00\">0</span> │ conv1d_63[<span style=\"color: #00af00; text-decoration-color: #00af00\">0</span>][<span style=\"color: #00af00; text-decoration-color: #00af00\">0</span>],  │\n",
       "│                     │                   │            │ conv1d_60[<span style=\"color: #00af00; text-decoration-color: #00af00\">0</span>][<span style=\"color: #00af00; text-decoration-color: #00af00\">0</span>]   │\n",
       "├─────────────────────┼───────────────────┼────────────┼───────────────────┤\n",
       "│ activation_45       │ (<span style=\"color: #00d7ff; text-decoration-color: #00d7ff\">None</span>, <span style=\"color: #00af00; text-decoration-color: #00af00\">187</span>, <span style=\"color: #00af00; text-decoration-color: #00af00\">64</span>)   │          <span style=\"color: #00af00; text-decoration-color: #00af00\">0</span> │ add_17[<span style=\"color: #00af00; text-decoration-color: #00af00\">0</span>][<span style=\"color: #00af00; text-decoration-color: #00af00\">0</span>]      │\n",
       "│ (<span style=\"color: #0087ff; text-decoration-color: #0087ff\">Activation</span>)        │                   │            │                   │\n",
       "├─────────────────────┼───────────────────┼────────────┼───────────────────┤\n",
       "│ max_pooling1d_17    │ (<span style=\"color: #00d7ff; text-decoration-color: #00d7ff\">None</span>, <span style=\"color: #00af00; text-decoration-color: #00af00\">93</span>, <span style=\"color: #00af00; text-decoration-color: #00af00\">64</span>)    │          <span style=\"color: #00af00; text-decoration-color: #00af00\">0</span> │ activation_45[<span style=\"color: #00af00; text-decoration-color: #00af00\">0</span>]… │\n",
       "│ (<span style=\"color: #0087ff; text-decoration-color: #0087ff\">MaxPooling1D</span>)      │                   │            │                   │\n",
       "├─────────────────────┼───────────────────┼────────────┼───────────────────┤\n",
       "│ conv1d_65 (<span style=\"color: #0087ff; text-decoration-color: #0087ff\">Conv1D</span>)  │ (<span style=\"color: #00d7ff; text-decoration-color: #00d7ff\">None</span>, <span style=\"color: #00af00; text-decoration-color: #00af00\">93</span>, <span style=\"color: #00af00; text-decoration-color: #00af00\">128</span>)   │     <span style=\"color: #00af00; text-decoration-color: #00af00\">24,704</span> │ max_pooling1d_17… │\n",
       "├─────────────────────┼───────────────────┼────────────┼───────────────────┤\n",
       "│ activation_46       │ (<span style=\"color: #00d7ff; text-decoration-color: #00d7ff\">None</span>, <span style=\"color: #00af00; text-decoration-color: #00af00\">93</span>, <span style=\"color: #00af00; text-decoration-color: #00af00\">128</span>)   │          <span style=\"color: #00af00; text-decoration-color: #00af00\">0</span> │ conv1d_65[<span style=\"color: #00af00; text-decoration-color: #00af00\">0</span>][<span style=\"color: #00af00; text-decoration-color: #00af00\">0</span>]   │\n",
       "│ (<span style=\"color: #0087ff; text-decoration-color: #0087ff\">Activation</span>)        │                   │            │                   │\n",
       "├─────────────────────┼───────────────────┼────────────┼───────────────────┤\n",
       "│ conv1d_66 (<span style=\"color: #0087ff; text-decoration-color: #0087ff\">Conv1D</span>)  │ (<span style=\"color: #00d7ff; text-decoration-color: #00d7ff\">None</span>, <span style=\"color: #00af00; text-decoration-color: #00af00\">93</span>, <span style=\"color: #00af00; text-decoration-color: #00af00\">128</span>)   │     <span style=\"color: #00af00; text-decoration-color: #00af00\">49,280</span> │ activation_46[<span style=\"color: #00af00; text-decoration-color: #00af00\">0</span>]… │\n",
       "├─────────────────────┼───────────────────┼────────────┼───────────────────┤\n",
       "│ activation_47       │ (<span style=\"color: #00d7ff; text-decoration-color: #00d7ff\">None</span>, <span style=\"color: #00af00; text-decoration-color: #00af00\">93</span>, <span style=\"color: #00af00; text-decoration-color: #00af00\">128</span>)   │          <span style=\"color: #00af00; text-decoration-color: #00af00\">0</span> │ conv1d_66[<span style=\"color: #00af00; text-decoration-color: #00af00\">0</span>][<span style=\"color: #00af00; text-decoration-color: #00af00\">0</span>]   │\n",
       "│ (<span style=\"color: #0087ff; text-decoration-color: #0087ff\">Activation</span>)        │                   │            │                   │\n",
       "├─────────────────────┼───────────────────┼────────────┼───────────────────┤\n",
       "│ conv1d_67 (<span style=\"color: #0087ff; text-decoration-color: #0087ff\">Conv1D</span>)  │ (<span style=\"color: #00d7ff; text-decoration-color: #00d7ff\">None</span>, <span style=\"color: #00af00; text-decoration-color: #00af00\">93</span>, <span style=\"color: #00af00; text-decoration-color: #00af00\">128</span>)   │     <span style=\"color: #00af00; text-decoration-color: #00af00\">49,280</span> │ activation_47[<span style=\"color: #00af00; text-decoration-color: #00af00\">0</span>]… │\n",
       "├─────────────────────┼───────────────────┼────────────┼───────────────────┤\n",
       "│ conv1d_64 (<span style=\"color: #0087ff; text-decoration-color: #0087ff\">Conv1D</span>)  │ (<span style=\"color: #00d7ff; text-decoration-color: #00d7ff\">None</span>, <span style=\"color: #00af00; text-decoration-color: #00af00\">93</span>, <span style=\"color: #00af00; text-decoration-color: #00af00\">128</span>)   │      <span style=\"color: #00af00; text-decoration-color: #00af00\">8,320</span> │ max_pooling1d_17… │\n",
       "├─────────────────────┼───────────────────┼────────────┼───────────────────┤\n",
       "│ add_18 (<span style=\"color: #0087ff; text-decoration-color: #0087ff\">Add</span>)        │ (<span style=\"color: #00d7ff; text-decoration-color: #00d7ff\">None</span>, <span style=\"color: #00af00; text-decoration-color: #00af00\">93</span>, <span style=\"color: #00af00; text-decoration-color: #00af00\">128</span>)   │          <span style=\"color: #00af00; text-decoration-color: #00af00\">0</span> │ conv1d_67[<span style=\"color: #00af00; text-decoration-color: #00af00\">0</span>][<span style=\"color: #00af00; text-decoration-color: #00af00\">0</span>],  │\n",
       "│                     │                   │            │ conv1d_64[<span style=\"color: #00af00; text-decoration-color: #00af00\">0</span>][<span style=\"color: #00af00; text-decoration-color: #00af00\">0</span>]   │\n",
       "├─────────────────────┼───────────────────┼────────────┼───────────────────┤\n",
       "│ activation_48       │ (<span style=\"color: #00d7ff; text-decoration-color: #00d7ff\">None</span>, <span style=\"color: #00af00; text-decoration-color: #00af00\">93</span>, <span style=\"color: #00af00; text-decoration-color: #00af00\">128</span>)   │          <span style=\"color: #00af00; text-decoration-color: #00af00\">0</span> │ add_18[<span style=\"color: #00af00; text-decoration-color: #00af00\">0</span>][<span style=\"color: #00af00; text-decoration-color: #00af00\">0</span>]      │\n",
       "│ (<span style=\"color: #0087ff; text-decoration-color: #0087ff\">Activation</span>)        │                   │            │                   │\n",
       "├─────────────────────┼───────────────────┼────────────┼───────────────────┤\n",
       "│ max_pooling1d_18    │ (<span style=\"color: #00d7ff; text-decoration-color: #00d7ff\">None</span>, <span style=\"color: #00af00; text-decoration-color: #00af00\">46</span>, <span style=\"color: #00af00; text-decoration-color: #00af00\">128</span>)   │          <span style=\"color: #00af00; text-decoration-color: #00af00\">0</span> │ activation_48[<span style=\"color: #00af00; text-decoration-color: #00af00\">0</span>]… │\n",
       "│ (<span style=\"color: #0087ff; text-decoration-color: #0087ff\">MaxPooling1D</span>)      │                   │            │                   │\n",
       "├─────────────────────┼───────────────────┼────────────┼───────────────────┤\n",
       "│ conv1d_69 (<span style=\"color: #0087ff; text-decoration-color: #0087ff\">Conv1D</span>)  │ (<span style=\"color: #00d7ff; text-decoration-color: #00d7ff\">None</span>, <span style=\"color: #00af00; text-decoration-color: #00af00\">46</span>, <span style=\"color: #00af00; text-decoration-color: #00af00\">128</span>)   │     <span style=\"color: #00af00; text-decoration-color: #00af00\">49,280</span> │ max_pooling1d_18… │\n",
       "├─────────────────────┼───────────────────┼────────────┼───────────────────┤\n",
       "│ activation_49       │ (<span style=\"color: #00d7ff; text-decoration-color: #00d7ff\">None</span>, <span style=\"color: #00af00; text-decoration-color: #00af00\">46</span>, <span style=\"color: #00af00; text-decoration-color: #00af00\">128</span>)   │          <span style=\"color: #00af00; text-decoration-color: #00af00\">0</span> │ conv1d_69[<span style=\"color: #00af00; text-decoration-color: #00af00\">0</span>][<span style=\"color: #00af00; text-decoration-color: #00af00\">0</span>]   │\n",
       "│ (<span style=\"color: #0087ff; text-decoration-color: #0087ff\">Activation</span>)        │                   │            │                   │\n",
       "├─────────────────────┼───────────────────┼────────────┼───────────────────┤\n",
       "│ conv1d_70 (<span style=\"color: #0087ff; text-decoration-color: #0087ff\">Conv1D</span>)  │ (<span style=\"color: #00d7ff; text-decoration-color: #00d7ff\">None</span>, <span style=\"color: #00af00; text-decoration-color: #00af00\">46</span>, <span style=\"color: #00af00; text-decoration-color: #00af00\">128</span>)   │     <span style=\"color: #00af00; text-decoration-color: #00af00\">49,280</span> │ activation_49[<span style=\"color: #00af00; text-decoration-color: #00af00\">0</span>]… │\n",
       "├─────────────────────┼───────────────────┼────────────┼───────────────────┤\n",
       "│ activation_50       │ (<span style=\"color: #00d7ff; text-decoration-color: #00d7ff\">None</span>, <span style=\"color: #00af00; text-decoration-color: #00af00\">46</span>, <span style=\"color: #00af00; text-decoration-color: #00af00\">128</span>)   │          <span style=\"color: #00af00; text-decoration-color: #00af00\">0</span> │ conv1d_70[<span style=\"color: #00af00; text-decoration-color: #00af00\">0</span>][<span style=\"color: #00af00; text-decoration-color: #00af00\">0</span>]   │\n",
       "│ (<span style=\"color: #0087ff; text-decoration-color: #0087ff\">Activation</span>)        │                   │            │                   │\n",
       "├─────────────────────┼───────────────────┼────────────┼───────────────────┤\n",
       "│ conv1d_71 (<span style=\"color: #0087ff; text-decoration-color: #0087ff\">Conv1D</span>)  │ (<span style=\"color: #00d7ff; text-decoration-color: #00d7ff\">None</span>, <span style=\"color: #00af00; text-decoration-color: #00af00\">46</span>, <span style=\"color: #00af00; text-decoration-color: #00af00\">128</span>)   │     <span style=\"color: #00af00; text-decoration-color: #00af00\">49,280</span> │ activation_50[<span style=\"color: #00af00; text-decoration-color: #00af00\">0</span>]… │\n",
       "├─────────────────────┼───────────────────┼────────────┼───────────────────┤\n",
       "│ conv1d_68 (<span style=\"color: #0087ff; text-decoration-color: #0087ff\">Conv1D</span>)  │ (<span style=\"color: #00d7ff; text-decoration-color: #00d7ff\">None</span>, <span style=\"color: #00af00; text-decoration-color: #00af00\">46</span>, <span style=\"color: #00af00; text-decoration-color: #00af00\">128</span>)   │     <span style=\"color: #00af00; text-decoration-color: #00af00\">16,512</span> │ max_pooling1d_18… │\n",
       "├─────────────────────┼───────────────────┼────────────┼───────────────────┤\n",
       "│ add_19 (<span style=\"color: #0087ff; text-decoration-color: #0087ff\">Add</span>)        │ (<span style=\"color: #00d7ff; text-decoration-color: #00d7ff\">None</span>, <span style=\"color: #00af00; text-decoration-color: #00af00\">46</span>, <span style=\"color: #00af00; text-decoration-color: #00af00\">128</span>)   │          <span style=\"color: #00af00; text-decoration-color: #00af00\">0</span> │ conv1d_71[<span style=\"color: #00af00; text-decoration-color: #00af00\">0</span>][<span style=\"color: #00af00; text-decoration-color: #00af00\">0</span>],  │\n",
       "│                     │                   │            │ conv1d_68[<span style=\"color: #00af00; text-decoration-color: #00af00\">0</span>][<span style=\"color: #00af00; text-decoration-color: #00af00\">0</span>]   │\n",
       "├─────────────────────┼───────────────────┼────────────┼───────────────────┤\n",
       "│ activation_51       │ (<span style=\"color: #00d7ff; text-decoration-color: #00d7ff\">None</span>, <span style=\"color: #00af00; text-decoration-color: #00af00\">46</span>, <span style=\"color: #00af00; text-decoration-color: #00af00\">128</span>)   │          <span style=\"color: #00af00; text-decoration-color: #00af00\">0</span> │ add_19[<span style=\"color: #00af00; text-decoration-color: #00af00\">0</span>][<span style=\"color: #00af00; text-decoration-color: #00af00\">0</span>]      │\n",
       "│ (<span style=\"color: #0087ff; text-decoration-color: #0087ff\">Activation</span>)        │                   │            │                   │\n",
       "├─────────────────────┼───────────────────┼────────────┼───────────────────┤\n",
       "│ max_pooling1d_19    │ (<span style=\"color: #00d7ff; text-decoration-color: #00d7ff\">None</span>, <span style=\"color: #00af00; text-decoration-color: #00af00\">23</span>, <span style=\"color: #00af00; text-decoration-color: #00af00\">128</span>)   │          <span style=\"color: #00af00; text-decoration-color: #00af00\">0</span> │ activation_51[<span style=\"color: #00af00; text-decoration-color: #00af00\">0</span>]… │\n",
       "│ (<span style=\"color: #0087ff; text-decoration-color: #0087ff\">MaxPooling1D</span>)      │                   │            │                   │\n",
       "├─────────────────────┼───────────────────┼────────────┼───────────────────┤\n",
       "│ average_pooling1d_3 │ (<span style=\"color: #00d7ff; text-decoration-color: #00d7ff\">None</span>, <span style=\"color: #00af00; text-decoration-color: #00af00\">7</span>, <span style=\"color: #00af00; text-decoration-color: #00af00\">128</span>)    │          <span style=\"color: #00af00; text-decoration-color: #00af00\">0</span> │ max_pooling1d_19… │\n",
       "│ (<span style=\"color: #0087ff; text-decoration-color: #0087ff\">AveragePooling1D</span>)  │                   │            │                   │\n",
       "├─────────────────────┼───────────────────┼────────────┼───────────────────┤\n",
       "│ flatten_3 (<span style=\"color: #0087ff; text-decoration-color: #0087ff\">Flatten</span>) │ (<span style=\"color: #00d7ff; text-decoration-color: #00d7ff\">None</span>, <span style=\"color: #00af00; text-decoration-color: #00af00\">896</span>)       │          <span style=\"color: #00af00; text-decoration-color: #00af00\">0</span> │ average_pooling1… │\n",
       "├─────────────────────┼───────────────────┼────────────┼───────────────────┤\n",
       "│ dense_6 (<span style=\"color: #0087ff; text-decoration-color: #0087ff\">Dense</span>)     │ (<span style=\"color: #00d7ff; text-decoration-color: #00d7ff\">None</span>, <span style=\"color: #00af00; text-decoration-color: #00af00\">256</span>)       │    <span style=\"color: #00af00; text-decoration-color: #00af00\">229,632</span> │ flatten_3[<span style=\"color: #00af00; text-decoration-color: #00af00\">0</span>][<span style=\"color: #00af00; text-decoration-color: #00af00\">0</span>]   │\n",
       "├─────────────────────┼───────────────────┼────────────┼───────────────────┤\n",
       "│ dense_7 (<span style=\"color: #0087ff; text-decoration-color: #0087ff\">Dense</span>)     │ (<span style=\"color: #00d7ff; text-decoration-color: #00d7ff\">None</span>, <span style=\"color: #00af00; text-decoration-color: #00af00\">128</span>)       │     <span style=\"color: #00af00; text-decoration-color: #00af00\">32,896</span> │ dense_6[<span style=\"color: #00af00; text-decoration-color: #00af00\">0</span>][<span style=\"color: #00af00; text-decoration-color: #00af00\">0</span>]     │\n",
       "├─────────────────────┼───────────────────┼────────────┼───────────────────┤\n",
       "│ output (<span style=\"color: #0087ff; text-decoration-color: #0087ff\">Dense</span>)      │ (<span style=\"color: #00d7ff; text-decoration-color: #00d7ff\">None</span>, <span style=\"color: #00af00; text-decoration-color: #00af00\">150</span>)       │     <span style=\"color: #00af00; text-decoration-color: #00af00\">19,350</span> │ dense_7[<span style=\"color: #00af00; text-decoration-color: #00af00\">0</span>][<span style=\"color: #00af00; text-decoration-color: #00af00\">0</span>]     │\n",
       "└─────────────────────┴───────────────────┴────────────┴───────────────────┘\n",
       "</pre>\n"
      ],
      "text/plain": [
       "┏━━━━━━━━━━━━━━━━━━━━━┳━━━━━━━━━━━━━━━━━━━┳━━━━━━━━━━━━┳━━━━━━━━━━━━━━━━━━━┓\n",
       "┃\u001b[1m \u001b[0m\u001b[1mLayer (type)       \u001b[0m\u001b[1m \u001b[0m┃\u001b[1m \u001b[0m\u001b[1mOutput Shape     \u001b[0m\u001b[1m \u001b[0m┃\u001b[1m \u001b[0m\u001b[1m   Param #\u001b[0m\u001b[1m \u001b[0m┃\u001b[1m \u001b[0m\u001b[1mConnected to     \u001b[0m\u001b[1m \u001b[0m┃\n",
       "┡━━━━━━━━━━━━━━━━━━━━━╇━━━━━━━━━━━━━━━━━━━╇━━━━━━━━━━━━╇━━━━━━━━━━━━━━━━━━━┩\n",
       "│ input (\u001b[38;5;33mInputLayer\u001b[0m)  │ (\u001b[38;5;45mNone\u001b[0m, \u001b[38;5;34m750\u001b[0m, \u001b[38;5;34m1\u001b[0m)    │          \u001b[38;5;34m0\u001b[0m │ -                 │\n",
       "├─────────────────────┼───────────────────┼────────────┼───────────────────┤\n",
       "│ conv1d_55 (\u001b[38;5;33mConv1D\u001b[0m)  │ (\u001b[38;5;45mNone\u001b[0m, \u001b[38;5;34m750\u001b[0m, \u001b[38;5;34m16\u001b[0m)   │         \u001b[38;5;34m64\u001b[0m │ input[\u001b[38;5;34m0\u001b[0m][\u001b[38;5;34m0\u001b[0m]       │\n",
       "├─────────────────────┼───────────────────┼────────────┼───────────────────┤\n",
       "│ activation_39       │ (\u001b[38;5;45mNone\u001b[0m, \u001b[38;5;34m750\u001b[0m, \u001b[38;5;34m16\u001b[0m)   │          \u001b[38;5;34m0\u001b[0m │ conv1d_55[\u001b[38;5;34m0\u001b[0m][\u001b[38;5;34m0\u001b[0m]   │\n",
       "│ (\u001b[38;5;33mActivation\u001b[0m)        │                   │            │                   │\n",
       "├─────────────────────┼───────────────────┼────────────┼───────────────────┤\n",
       "│ conv1d_56 (\u001b[38;5;33mConv1D\u001b[0m)  │ (\u001b[38;5;45mNone\u001b[0m, \u001b[38;5;34m750\u001b[0m, \u001b[38;5;34m16\u001b[0m)   │        \u001b[38;5;34m784\u001b[0m │ activation_39[\u001b[38;5;34m0\u001b[0m]… │\n",
       "├─────────────────────┼───────────────────┼────────────┼───────────────────┤\n",
       "│ conv1d_54 (\u001b[38;5;33mConv1D\u001b[0m)  │ (\u001b[38;5;45mNone\u001b[0m, \u001b[38;5;34m750\u001b[0m, \u001b[38;5;34m16\u001b[0m)   │         \u001b[38;5;34m32\u001b[0m │ input[\u001b[38;5;34m0\u001b[0m][\u001b[38;5;34m0\u001b[0m]       │\n",
       "├─────────────────────┼───────────────────┼────────────┼───────────────────┤\n",
       "│ add_15 (\u001b[38;5;33mAdd\u001b[0m)        │ (\u001b[38;5;45mNone\u001b[0m, \u001b[38;5;34m750\u001b[0m, \u001b[38;5;34m16\u001b[0m)   │          \u001b[38;5;34m0\u001b[0m │ conv1d_56[\u001b[38;5;34m0\u001b[0m][\u001b[38;5;34m0\u001b[0m],  │\n",
       "│                     │                   │            │ conv1d_54[\u001b[38;5;34m0\u001b[0m][\u001b[38;5;34m0\u001b[0m]   │\n",
       "├─────────────────────┼───────────────────┼────────────┼───────────────────┤\n",
       "│ activation_40       │ (\u001b[38;5;45mNone\u001b[0m, \u001b[38;5;34m750\u001b[0m, \u001b[38;5;34m16\u001b[0m)   │          \u001b[38;5;34m0\u001b[0m │ add_15[\u001b[38;5;34m0\u001b[0m][\u001b[38;5;34m0\u001b[0m]      │\n",
       "│ (\u001b[38;5;33mActivation\u001b[0m)        │                   │            │                   │\n",
       "├─────────────────────┼───────────────────┼────────────┼───────────────────┤\n",
       "│ max_pooling1d_15    │ (\u001b[38;5;45mNone\u001b[0m, \u001b[38;5;34m375\u001b[0m, \u001b[38;5;34m16\u001b[0m)   │          \u001b[38;5;34m0\u001b[0m │ activation_40[\u001b[38;5;34m0\u001b[0m]… │\n",
       "│ (\u001b[38;5;33mMaxPooling1D\u001b[0m)      │                   │            │                   │\n",
       "├─────────────────────┼───────────────────┼────────────┼───────────────────┤\n",
       "│ conv1d_58 (\u001b[38;5;33mConv1D\u001b[0m)  │ (\u001b[38;5;45mNone\u001b[0m, \u001b[38;5;34m375\u001b[0m, \u001b[38;5;34m32\u001b[0m)   │      \u001b[38;5;34m1,568\u001b[0m │ max_pooling1d_15… │\n",
       "├─────────────────────┼───────────────────┼────────────┼───────────────────┤\n",
       "│ activation_41       │ (\u001b[38;5;45mNone\u001b[0m, \u001b[38;5;34m375\u001b[0m, \u001b[38;5;34m32\u001b[0m)   │          \u001b[38;5;34m0\u001b[0m │ conv1d_58[\u001b[38;5;34m0\u001b[0m][\u001b[38;5;34m0\u001b[0m]   │\n",
       "│ (\u001b[38;5;33mActivation\u001b[0m)        │                   │            │                   │\n",
       "├─────────────────────┼───────────────────┼────────────┼───────────────────┤\n",
       "│ conv1d_59 (\u001b[38;5;33mConv1D\u001b[0m)  │ (\u001b[38;5;45mNone\u001b[0m, \u001b[38;5;34m375\u001b[0m, \u001b[38;5;34m32\u001b[0m)   │      \u001b[38;5;34m3,104\u001b[0m │ activation_41[\u001b[38;5;34m0\u001b[0m]… │\n",
       "├─────────────────────┼───────────────────┼────────────┼───────────────────┤\n",
       "│ conv1d_57 (\u001b[38;5;33mConv1D\u001b[0m)  │ (\u001b[38;5;45mNone\u001b[0m, \u001b[38;5;34m375\u001b[0m, \u001b[38;5;34m32\u001b[0m)   │        \u001b[38;5;34m544\u001b[0m │ max_pooling1d_15… │\n",
       "├─────────────────────┼───────────────────┼────────────┼───────────────────┤\n",
       "│ add_16 (\u001b[38;5;33mAdd\u001b[0m)        │ (\u001b[38;5;45mNone\u001b[0m, \u001b[38;5;34m375\u001b[0m, \u001b[38;5;34m32\u001b[0m)   │          \u001b[38;5;34m0\u001b[0m │ conv1d_59[\u001b[38;5;34m0\u001b[0m][\u001b[38;5;34m0\u001b[0m],  │\n",
       "│                     │                   │            │ conv1d_57[\u001b[38;5;34m0\u001b[0m][\u001b[38;5;34m0\u001b[0m]   │\n",
       "├─────────────────────┼───────────────────┼────────────┼───────────────────┤\n",
       "│ activation_42       │ (\u001b[38;5;45mNone\u001b[0m, \u001b[38;5;34m375\u001b[0m, \u001b[38;5;34m32\u001b[0m)   │          \u001b[38;5;34m0\u001b[0m │ add_16[\u001b[38;5;34m0\u001b[0m][\u001b[38;5;34m0\u001b[0m]      │\n",
       "│ (\u001b[38;5;33mActivation\u001b[0m)        │                   │            │                   │\n",
       "├─────────────────────┼───────────────────┼────────────┼───────────────────┤\n",
       "│ max_pooling1d_16    │ (\u001b[38;5;45mNone\u001b[0m, \u001b[38;5;34m187\u001b[0m, \u001b[38;5;34m32\u001b[0m)   │          \u001b[38;5;34m0\u001b[0m │ activation_42[\u001b[38;5;34m0\u001b[0m]… │\n",
       "│ (\u001b[38;5;33mMaxPooling1D\u001b[0m)      │                   │            │                   │\n",
       "├─────────────────────┼───────────────────┼────────────┼───────────────────┤\n",
       "│ conv1d_61 (\u001b[38;5;33mConv1D\u001b[0m)  │ (\u001b[38;5;45mNone\u001b[0m, \u001b[38;5;34m187\u001b[0m, \u001b[38;5;34m64\u001b[0m)   │      \u001b[38;5;34m6,208\u001b[0m │ max_pooling1d_16… │\n",
       "├─────────────────────┼───────────────────┼────────────┼───────────────────┤\n",
       "│ activation_43       │ (\u001b[38;5;45mNone\u001b[0m, \u001b[38;5;34m187\u001b[0m, \u001b[38;5;34m64\u001b[0m)   │          \u001b[38;5;34m0\u001b[0m │ conv1d_61[\u001b[38;5;34m0\u001b[0m][\u001b[38;5;34m0\u001b[0m]   │\n",
       "│ (\u001b[38;5;33mActivation\u001b[0m)        │                   │            │                   │\n",
       "├─────────────────────┼───────────────────┼────────────┼───────────────────┤\n",
       "│ conv1d_62 (\u001b[38;5;33mConv1D\u001b[0m)  │ (\u001b[38;5;45mNone\u001b[0m, \u001b[38;5;34m187\u001b[0m, \u001b[38;5;34m64\u001b[0m)   │     \u001b[38;5;34m12,352\u001b[0m │ activation_43[\u001b[38;5;34m0\u001b[0m]… │\n",
       "├─────────────────────┼───────────────────┼────────────┼───────────────────┤\n",
       "│ activation_44       │ (\u001b[38;5;45mNone\u001b[0m, \u001b[38;5;34m187\u001b[0m, \u001b[38;5;34m64\u001b[0m)   │          \u001b[38;5;34m0\u001b[0m │ conv1d_62[\u001b[38;5;34m0\u001b[0m][\u001b[38;5;34m0\u001b[0m]   │\n",
       "│ (\u001b[38;5;33mActivation\u001b[0m)        │                   │            │                   │\n",
       "├─────────────────────┼───────────────────┼────────────┼───────────────────┤\n",
       "│ conv1d_63 (\u001b[38;5;33mConv1D\u001b[0m)  │ (\u001b[38;5;45mNone\u001b[0m, \u001b[38;5;34m187\u001b[0m, \u001b[38;5;34m64\u001b[0m)   │     \u001b[38;5;34m12,352\u001b[0m │ activation_44[\u001b[38;5;34m0\u001b[0m]… │\n",
       "├─────────────────────┼───────────────────┼────────────┼───────────────────┤\n",
       "│ conv1d_60 (\u001b[38;5;33mConv1D\u001b[0m)  │ (\u001b[38;5;45mNone\u001b[0m, \u001b[38;5;34m187\u001b[0m, \u001b[38;5;34m64\u001b[0m)   │      \u001b[38;5;34m2,112\u001b[0m │ max_pooling1d_16… │\n",
       "├─────────────────────┼───────────────────┼────────────┼───────────────────┤\n",
       "│ add_17 (\u001b[38;5;33mAdd\u001b[0m)        │ (\u001b[38;5;45mNone\u001b[0m, \u001b[38;5;34m187\u001b[0m, \u001b[38;5;34m64\u001b[0m)   │          \u001b[38;5;34m0\u001b[0m │ conv1d_63[\u001b[38;5;34m0\u001b[0m][\u001b[38;5;34m0\u001b[0m],  │\n",
       "│                     │                   │            │ conv1d_60[\u001b[38;5;34m0\u001b[0m][\u001b[38;5;34m0\u001b[0m]   │\n",
       "├─────────────────────┼───────────────────┼────────────┼───────────────────┤\n",
       "│ activation_45       │ (\u001b[38;5;45mNone\u001b[0m, \u001b[38;5;34m187\u001b[0m, \u001b[38;5;34m64\u001b[0m)   │          \u001b[38;5;34m0\u001b[0m │ add_17[\u001b[38;5;34m0\u001b[0m][\u001b[38;5;34m0\u001b[0m]      │\n",
       "│ (\u001b[38;5;33mActivation\u001b[0m)        │                   │            │                   │\n",
       "├─────────────────────┼───────────────────┼────────────┼───────────────────┤\n",
       "│ max_pooling1d_17    │ (\u001b[38;5;45mNone\u001b[0m, \u001b[38;5;34m93\u001b[0m, \u001b[38;5;34m64\u001b[0m)    │          \u001b[38;5;34m0\u001b[0m │ activation_45[\u001b[38;5;34m0\u001b[0m]… │\n",
       "│ (\u001b[38;5;33mMaxPooling1D\u001b[0m)      │                   │            │                   │\n",
       "├─────────────────────┼───────────────────┼────────────┼───────────────────┤\n",
       "│ conv1d_65 (\u001b[38;5;33mConv1D\u001b[0m)  │ (\u001b[38;5;45mNone\u001b[0m, \u001b[38;5;34m93\u001b[0m, \u001b[38;5;34m128\u001b[0m)   │     \u001b[38;5;34m24,704\u001b[0m │ max_pooling1d_17… │\n",
       "├─────────────────────┼───────────────────┼────────────┼───────────────────┤\n",
       "│ activation_46       │ (\u001b[38;5;45mNone\u001b[0m, \u001b[38;5;34m93\u001b[0m, \u001b[38;5;34m128\u001b[0m)   │          \u001b[38;5;34m0\u001b[0m │ conv1d_65[\u001b[38;5;34m0\u001b[0m][\u001b[38;5;34m0\u001b[0m]   │\n",
       "│ (\u001b[38;5;33mActivation\u001b[0m)        │                   │            │                   │\n",
       "├─────────────────────┼───────────────────┼────────────┼───────────────────┤\n",
       "│ conv1d_66 (\u001b[38;5;33mConv1D\u001b[0m)  │ (\u001b[38;5;45mNone\u001b[0m, \u001b[38;5;34m93\u001b[0m, \u001b[38;5;34m128\u001b[0m)   │     \u001b[38;5;34m49,280\u001b[0m │ activation_46[\u001b[38;5;34m0\u001b[0m]… │\n",
       "├─────────────────────┼───────────────────┼────────────┼───────────────────┤\n",
       "│ activation_47       │ (\u001b[38;5;45mNone\u001b[0m, \u001b[38;5;34m93\u001b[0m, \u001b[38;5;34m128\u001b[0m)   │          \u001b[38;5;34m0\u001b[0m │ conv1d_66[\u001b[38;5;34m0\u001b[0m][\u001b[38;5;34m0\u001b[0m]   │\n",
       "│ (\u001b[38;5;33mActivation\u001b[0m)        │                   │            │                   │\n",
       "├─────────────────────┼───────────────────┼────────────┼───────────────────┤\n",
       "│ conv1d_67 (\u001b[38;5;33mConv1D\u001b[0m)  │ (\u001b[38;5;45mNone\u001b[0m, \u001b[38;5;34m93\u001b[0m, \u001b[38;5;34m128\u001b[0m)   │     \u001b[38;5;34m49,280\u001b[0m │ activation_47[\u001b[38;5;34m0\u001b[0m]… │\n",
       "├─────────────────────┼───────────────────┼────────────┼───────────────────┤\n",
       "│ conv1d_64 (\u001b[38;5;33mConv1D\u001b[0m)  │ (\u001b[38;5;45mNone\u001b[0m, \u001b[38;5;34m93\u001b[0m, \u001b[38;5;34m128\u001b[0m)   │      \u001b[38;5;34m8,320\u001b[0m │ max_pooling1d_17… │\n",
       "├─────────────────────┼───────────────────┼────────────┼───────────────────┤\n",
       "│ add_18 (\u001b[38;5;33mAdd\u001b[0m)        │ (\u001b[38;5;45mNone\u001b[0m, \u001b[38;5;34m93\u001b[0m, \u001b[38;5;34m128\u001b[0m)   │          \u001b[38;5;34m0\u001b[0m │ conv1d_67[\u001b[38;5;34m0\u001b[0m][\u001b[38;5;34m0\u001b[0m],  │\n",
       "│                     │                   │            │ conv1d_64[\u001b[38;5;34m0\u001b[0m][\u001b[38;5;34m0\u001b[0m]   │\n",
       "├─────────────────────┼───────────────────┼────────────┼───────────────────┤\n",
       "│ activation_48       │ (\u001b[38;5;45mNone\u001b[0m, \u001b[38;5;34m93\u001b[0m, \u001b[38;5;34m128\u001b[0m)   │          \u001b[38;5;34m0\u001b[0m │ add_18[\u001b[38;5;34m0\u001b[0m][\u001b[38;5;34m0\u001b[0m]      │\n",
       "│ (\u001b[38;5;33mActivation\u001b[0m)        │                   │            │                   │\n",
       "├─────────────────────┼───────────────────┼────────────┼───────────────────┤\n",
       "│ max_pooling1d_18    │ (\u001b[38;5;45mNone\u001b[0m, \u001b[38;5;34m46\u001b[0m, \u001b[38;5;34m128\u001b[0m)   │          \u001b[38;5;34m0\u001b[0m │ activation_48[\u001b[38;5;34m0\u001b[0m]… │\n",
       "│ (\u001b[38;5;33mMaxPooling1D\u001b[0m)      │                   │            │                   │\n",
       "├─────────────────────┼───────────────────┼────────────┼───────────────────┤\n",
       "│ conv1d_69 (\u001b[38;5;33mConv1D\u001b[0m)  │ (\u001b[38;5;45mNone\u001b[0m, \u001b[38;5;34m46\u001b[0m, \u001b[38;5;34m128\u001b[0m)   │     \u001b[38;5;34m49,280\u001b[0m │ max_pooling1d_18… │\n",
       "├─────────────────────┼───────────────────┼────────────┼───────────────────┤\n",
       "│ activation_49       │ (\u001b[38;5;45mNone\u001b[0m, \u001b[38;5;34m46\u001b[0m, \u001b[38;5;34m128\u001b[0m)   │          \u001b[38;5;34m0\u001b[0m │ conv1d_69[\u001b[38;5;34m0\u001b[0m][\u001b[38;5;34m0\u001b[0m]   │\n",
       "│ (\u001b[38;5;33mActivation\u001b[0m)        │                   │            │                   │\n",
       "├─────────────────────┼───────────────────┼────────────┼───────────────────┤\n",
       "│ conv1d_70 (\u001b[38;5;33mConv1D\u001b[0m)  │ (\u001b[38;5;45mNone\u001b[0m, \u001b[38;5;34m46\u001b[0m, \u001b[38;5;34m128\u001b[0m)   │     \u001b[38;5;34m49,280\u001b[0m │ activation_49[\u001b[38;5;34m0\u001b[0m]… │\n",
       "├─────────────────────┼───────────────────┼────────────┼───────────────────┤\n",
       "│ activation_50       │ (\u001b[38;5;45mNone\u001b[0m, \u001b[38;5;34m46\u001b[0m, \u001b[38;5;34m128\u001b[0m)   │          \u001b[38;5;34m0\u001b[0m │ conv1d_70[\u001b[38;5;34m0\u001b[0m][\u001b[38;5;34m0\u001b[0m]   │\n",
       "│ (\u001b[38;5;33mActivation\u001b[0m)        │                   │            │                   │\n",
       "├─────────────────────┼───────────────────┼────────────┼───────────────────┤\n",
       "│ conv1d_71 (\u001b[38;5;33mConv1D\u001b[0m)  │ (\u001b[38;5;45mNone\u001b[0m, \u001b[38;5;34m46\u001b[0m, \u001b[38;5;34m128\u001b[0m)   │     \u001b[38;5;34m49,280\u001b[0m │ activation_50[\u001b[38;5;34m0\u001b[0m]… │\n",
       "├─────────────────────┼───────────────────┼────────────┼───────────────────┤\n",
       "│ conv1d_68 (\u001b[38;5;33mConv1D\u001b[0m)  │ (\u001b[38;5;45mNone\u001b[0m, \u001b[38;5;34m46\u001b[0m, \u001b[38;5;34m128\u001b[0m)   │     \u001b[38;5;34m16,512\u001b[0m │ max_pooling1d_18… │\n",
       "├─────────────────────┼───────────────────┼────────────┼───────────────────┤\n",
       "│ add_19 (\u001b[38;5;33mAdd\u001b[0m)        │ (\u001b[38;5;45mNone\u001b[0m, \u001b[38;5;34m46\u001b[0m, \u001b[38;5;34m128\u001b[0m)   │          \u001b[38;5;34m0\u001b[0m │ conv1d_71[\u001b[38;5;34m0\u001b[0m][\u001b[38;5;34m0\u001b[0m],  │\n",
       "│                     │                   │            │ conv1d_68[\u001b[38;5;34m0\u001b[0m][\u001b[38;5;34m0\u001b[0m]   │\n",
       "├─────────────────────┼───────────────────┼────────────┼───────────────────┤\n",
       "│ activation_51       │ (\u001b[38;5;45mNone\u001b[0m, \u001b[38;5;34m46\u001b[0m, \u001b[38;5;34m128\u001b[0m)   │          \u001b[38;5;34m0\u001b[0m │ add_19[\u001b[38;5;34m0\u001b[0m][\u001b[38;5;34m0\u001b[0m]      │\n",
       "│ (\u001b[38;5;33mActivation\u001b[0m)        │                   │            │                   │\n",
       "├─────────────────────┼───────────────────┼────────────┼───────────────────┤\n",
       "│ max_pooling1d_19    │ (\u001b[38;5;45mNone\u001b[0m, \u001b[38;5;34m23\u001b[0m, \u001b[38;5;34m128\u001b[0m)   │          \u001b[38;5;34m0\u001b[0m │ activation_51[\u001b[38;5;34m0\u001b[0m]… │\n",
       "│ (\u001b[38;5;33mMaxPooling1D\u001b[0m)      │                   │            │                   │\n",
       "├─────────────────────┼───────────────────┼────────────┼───────────────────┤\n",
       "│ average_pooling1d_3 │ (\u001b[38;5;45mNone\u001b[0m, \u001b[38;5;34m7\u001b[0m, \u001b[38;5;34m128\u001b[0m)    │          \u001b[38;5;34m0\u001b[0m │ max_pooling1d_19… │\n",
       "│ (\u001b[38;5;33mAveragePooling1D\u001b[0m)  │                   │            │                   │\n",
       "├─────────────────────┼───────────────────┼────────────┼───────────────────┤\n",
       "│ flatten_3 (\u001b[38;5;33mFlatten\u001b[0m) │ (\u001b[38;5;45mNone\u001b[0m, \u001b[38;5;34m896\u001b[0m)       │          \u001b[38;5;34m0\u001b[0m │ average_pooling1… │\n",
       "├─────────────────────┼───────────────────┼────────────┼───────────────────┤\n",
       "│ dense_6 (\u001b[38;5;33mDense\u001b[0m)     │ (\u001b[38;5;45mNone\u001b[0m, \u001b[38;5;34m256\u001b[0m)       │    \u001b[38;5;34m229,632\u001b[0m │ flatten_3[\u001b[38;5;34m0\u001b[0m][\u001b[38;5;34m0\u001b[0m]   │\n",
       "├─────────────────────┼───────────────────┼────────────┼───────────────────┤\n",
       "│ dense_7 (\u001b[38;5;33mDense\u001b[0m)     │ (\u001b[38;5;45mNone\u001b[0m, \u001b[38;5;34m128\u001b[0m)       │     \u001b[38;5;34m32,896\u001b[0m │ dense_6[\u001b[38;5;34m0\u001b[0m][\u001b[38;5;34m0\u001b[0m]     │\n",
       "├─────────────────────┼───────────────────┼────────────┼───────────────────┤\n",
       "│ output (\u001b[38;5;33mDense\u001b[0m)      │ (\u001b[38;5;45mNone\u001b[0m, \u001b[38;5;34m150\u001b[0m)       │     \u001b[38;5;34m19,350\u001b[0m │ dense_7[\u001b[38;5;34m0\u001b[0m][\u001b[38;5;34m0\u001b[0m]     │\n",
       "└─────────────────────┴───────────────────┴────────────┴───────────────────┘\n"
      ]
     },
     "metadata": {},
     "output_type": "display_data"
    },
    {
     "data": {
      "text/html": [
       "<pre style=\"white-space:pre;overflow-x:auto;line-height:normal;font-family:Menlo,'DejaVu Sans Mono',consolas,'Courier New',monospace\"><span style=\"font-weight: bold\"> Total params: </span><span style=\"color: #00af00; text-decoration-color: #00af00\">616,934</span> (2.35 MB)\n",
       "</pre>\n"
      ],
      "text/plain": [
       "\u001b[1m Total params: \u001b[0m\u001b[38;5;34m616,934\u001b[0m (2.35 MB)\n"
      ]
     },
     "metadata": {},
     "output_type": "display_data"
    },
    {
     "data": {
      "text/html": [
       "<pre style=\"white-space:pre;overflow-x:auto;line-height:normal;font-family:Menlo,'DejaVu Sans Mono',consolas,'Courier New',monospace\"><span style=\"font-weight: bold\"> Trainable params: </span><span style=\"color: #00af00; text-decoration-color: #00af00\">616,934</span> (2.35 MB)\n",
       "</pre>\n"
      ],
      "text/plain": [
       "\u001b[1m Trainable params: \u001b[0m\u001b[38;5;34m616,934\u001b[0m (2.35 MB)\n"
      ]
     },
     "metadata": {},
     "output_type": "display_data"
    },
    {
     "data": {
      "text/html": [
       "<pre style=\"white-space:pre;overflow-x:auto;line-height:normal;font-family:Menlo,'DejaVu Sans Mono',consolas,'Courier New',monospace\"><span style=\"font-weight: bold\"> Non-trainable params: </span><span style=\"color: #00af00; text-decoration-color: #00af00\">0</span> (0.00 B)\n",
       "</pre>\n"
      ],
      "text/plain": [
       "\u001b[1m Non-trainable params: \u001b[0m\u001b[38;5;34m0\u001b[0m (0.00 B)\n"
      ]
     },
     "metadata": {},
     "output_type": "display_data"
    }
   ],
   "source": [
    "# Build model based on the Sampling rate and number of classes\n",
    "model = build_model((SAMPLING_RATE // 2, 1), len(train_class_names))\n",
    "\n",
    "# Show a summary of the model\n",
    "model.summary()\n",
    "\n",
    "# Compile the model using Adam's default learning rate and categorical crossentropy\n",
    "model.compile(\n",
    "    optimizer=\"Adam\",\n",
    "    loss=\"sparse_categorical_crossentropy\",\n",
    "    metrics=[\"accuracy\"],\n",
    ")\n",
    "\n",
    "# Add callbacks:\n",
    "# 'EarlyStopping' to stop training when the model is not enhancing anymore\n",
    "# 'ModelCheckPoint' to always keep the model that has the best val_accuracy\n",
    "model_save_filename = \"model.keras\"\n",
    "\n",
    "earlystopping_cb = keras.callbacks.EarlyStopping(patience=10, restore_best_weights=True)\n",
    "mdlcheckpoint_cb = keras.callbacks.ModelCheckpoint(\n",
    "    model_save_filename, monitor=\"val_accuracy\", save_best_only=True\n",
    ")"
   ]
  },
  {
   "cell_type": "markdown",
   "metadata": {},
   "source": [
    "## Training"
   ]
  },
  {
   "cell_type": "code",
   "execution_count": 89,
   "metadata": {},
   "outputs": [
    {
     "name": "stdout",
     "output_type": "stream",
     "text": [
      "Epoch 1/100\n",
      "\u001b[1m12/12\u001b[0m \u001b[32m━━━━━━━━━━━━━━━━━━━━\u001b[0m\u001b[37m\u001b[0m \u001b[1m6s\u001b[0m 246ms/step - accuracy: 0.0071 - loss: 4.9947 - val_accuracy: 0.0133 - val_loss: 5.0163\n",
      "Epoch 2/100\n",
      "\u001b[1m12/12\u001b[0m \u001b[32m━━━━━━━━━━━━━━━━━━━━\u001b[0m\u001b[37m\u001b[0m \u001b[1m4s\u001b[0m 235ms/step - accuracy: 0.0182 - loss: 4.9167 - val_accuracy: 0.0193 - val_loss: 4.9782\n",
      "Epoch 3/100\n",
      "\u001b[1m12/12\u001b[0m \u001b[32m━━━━━━━━━━━━━━━━━━━━\u001b[0m\u001b[37m\u001b[0m \u001b[1m4s\u001b[0m 266ms/step - accuracy: 0.0214 - loss: 4.8237 - val_accuracy: 0.0220 - val_loss: 4.8286\n",
      "Epoch 4/100\n",
      "\u001b[1m12/12\u001b[0m \u001b[32m━━━━━━━━━━━━━━━━━━━━\u001b[0m\u001b[37m\u001b[0m \u001b[1m4s\u001b[0m 239ms/step - accuracy: 0.0247 - loss: 4.6984 - val_accuracy: 0.0167 - val_loss: 4.7264\n",
      "Epoch 5/100\n",
      "\u001b[1m12/12\u001b[0m \u001b[32m━━━━━━━━━━━━━━━━━━━━\u001b[0m\u001b[37m\u001b[0m \u001b[1m3s\u001b[0m 233ms/step - accuracy: 0.0351 - loss: 4.5481 - val_accuracy: 0.0300 - val_loss: 4.6879\n",
      "Epoch 6/100\n",
      "\u001b[1m12/12\u001b[0m \u001b[32m━━━━━━━━━━━━━━━━━━━━\u001b[0m\u001b[37m\u001b[0m \u001b[1m4s\u001b[0m 263ms/step - accuracy: 0.0409 - loss: 4.4521 - val_accuracy: 0.0307 - val_loss: 4.6134\n",
      "Epoch 7/100\n",
      "\u001b[1m12/12\u001b[0m \u001b[32m━━━━━━━━━━━━━━━━━━━━\u001b[0m\u001b[37m\u001b[0m \u001b[1m4s\u001b[0m 249ms/step - accuracy: 0.0387 - loss: 4.4282 - val_accuracy: 0.0233 - val_loss: 4.5279\n",
      "Epoch 8/100\n",
      "\u001b[1m12/12\u001b[0m \u001b[32m━━━━━━━━━━━━━━━━━━━━\u001b[0m\u001b[37m\u001b[0m \u001b[1m4s\u001b[0m 259ms/step - accuracy: 0.0544 - loss: 4.3057 - val_accuracy: 0.0287 - val_loss: 4.4707\n",
      "Epoch 9/100\n",
      "\u001b[1m12/12\u001b[0m \u001b[32m━━━━━━━━━━━━━━━━━━━━\u001b[0m\u001b[37m\u001b[0m \u001b[1m5s\u001b[0m 394ms/step - accuracy: 0.0486 - loss: 4.2360 - val_accuracy: 0.0347 - val_loss: 4.4831\n",
      "Epoch 10/100\n",
      "\u001b[1m12/12\u001b[0m \u001b[32m━━━━━━━━━━━━━━━━━━━━\u001b[0m\u001b[37m\u001b[0m \u001b[1m3s\u001b[0m 235ms/step - accuracy: 0.0588 - loss: 4.1925 - val_accuracy: 0.0460 - val_loss: 4.4655\n",
      "Epoch 11/100\n",
      "\u001b[1m12/12\u001b[0m \u001b[32m━━━━━━━━━━━━━━━━━━━━\u001b[0m\u001b[37m\u001b[0m \u001b[1m3s\u001b[0m 227ms/step - accuracy: 0.0654 - loss: 4.1225 - val_accuracy: 0.0533 - val_loss: 4.5143\n",
      "Epoch 12/100\n",
      "\u001b[1m12/12\u001b[0m \u001b[32m━━━━━━━━━━━━━━━━━━━━\u001b[0m\u001b[37m\u001b[0m \u001b[1m3s\u001b[0m 243ms/step - accuracy: 0.0822 - loss: 4.0057 - val_accuracy: 0.0487 - val_loss: 4.4669\n",
      "Epoch 13/100\n",
      "\u001b[1m12/12\u001b[0m \u001b[32m━━━━━━━━━━━━━━━━━━━━\u001b[0m\u001b[37m\u001b[0m \u001b[1m4s\u001b[0m 260ms/step - accuracy: 0.0894 - loss: 3.9547 - val_accuracy: 0.0433 - val_loss: 4.6276\n",
      "Epoch 14/100\n",
      "\u001b[1m12/12\u001b[0m \u001b[32m━━━━━━━━━━━━━━━━━━━━\u001b[0m\u001b[37m\u001b[0m \u001b[1m4s\u001b[0m 247ms/step - accuracy: 0.0803 - loss: 3.9452 - val_accuracy: 0.0520 - val_loss: 4.5219\n",
      "Epoch 15/100\n",
      "\u001b[1m12/12\u001b[0m \u001b[32m━━━━━━━━━━━━━━━━━━━━\u001b[0m\u001b[37m\u001b[0m \u001b[1m4s\u001b[0m 249ms/step - accuracy: 0.1194 - loss: 3.7665 - val_accuracy: 0.0567 - val_loss: 4.5482\n",
      "Epoch 16/100\n",
      "\u001b[1m12/12\u001b[0m \u001b[32m━━━━━━━━━━━━━━━━━━━━\u001b[0m\u001b[37m\u001b[0m \u001b[1m3s\u001b[0m 222ms/step - accuracy: 0.1045 - loss: 3.8972 - val_accuracy: 0.0753 - val_loss: 4.2677\n",
      "Epoch 17/100\n",
      "\u001b[1m12/12\u001b[0m \u001b[32m━━━━━━━━━━━━━━━━━━━━\u001b[0m\u001b[37m\u001b[0m \u001b[1m3s\u001b[0m 214ms/step - accuracy: 0.1071 - loss: 3.6392 - val_accuracy: 0.0747 - val_loss: 4.9197\n",
      "Epoch 18/100\n",
      "\u001b[1m12/12\u001b[0m \u001b[32m━━━━━━━━━━━━━━━━━━━━\u001b[0m\u001b[37m\u001b[0m \u001b[1m3s\u001b[0m 241ms/step - accuracy: 0.1167 - loss: 3.5002 - val_accuracy: 0.0880 - val_loss: 4.5334\n",
      "Epoch 19/100\n",
      "\u001b[1m12/12\u001b[0m \u001b[32m━━━━━━━━━━━━━━━━━━━━\u001b[0m\u001b[37m\u001b[0m \u001b[1m3s\u001b[0m 212ms/step - accuracy: 0.1239 - loss: 3.4164 - val_accuracy: 0.0800 - val_loss: 4.4523\n",
      "Epoch 20/100\n",
      "\u001b[1m12/12\u001b[0m \u001b[32m━━━━━━━━━━━━━━━━━━━━\u001b[0m\u001b[37m\u001b[0m \u001b[1m3s\u001b[0m 215ms/step - accuracy: 0.1456 - loss: 3.3347 - val_accuracy: 0.0700 - val_loss: 5.0413\n",
      "Epoch 21/100\n",
      "\u001b[1m12/12\u001b[0m \u001b[32m━━━━━━━━━━━━━━━━━━━━\u001b[0m\u001b[37m\u001b[0m \u001b[1m3s\u001b[0m 217ms/step - accuracy: 0.1442 - loss: 3.3888 - val_accuracy: 0.0807 - val_loss: 4.8029\n",
      "Epoch 22/100\n",
      "\u001b[1m12/12\u001b[0m \u001b[32m━━━━━━━━━━━━━━━━━━━━\u001b[0m\u001b[37m\u001b[0m \u001b[1m3s\u001b[0m 211ms/step - accuracy: 0.1378 - loss: 3.3582 - val_accuracy: 0.1020 - val_loss: 4.9347\n",
      "Epoch 23/100\n",
      "\u001b[1m12/12\u001b[0m \u001b[32m━━━━━━━━━━━━━━━━━━━━\u001b[0m\u001b[37m\u001b[0m \u001b[1m3s\u001b[0m 212ms/step - accuracy: 0.1693 - loss: 3.2485 - val_accuracy: 0.0993 - val_loss: 5.1869\n",
      "Epoch 24/100\n",
      "\u001b[1m12/12\u001b[0m \u001b[32m━━━━━━━━━━━━━━━━━━━━\u001b[0m\u001b[37m\u001b[0m \u001b[1m3s\u001b[0m 210ms/step - accuracy: 0.1720 - loss: 3.2359 - val_accuracy: 0.1113 - val_loss: 4.8464\n",
      "Epoch 25/100\n",
      "\u001b[1m12/12\u001b[0m \u001b[32m━━━━━━━━━━━━━━━━━━━━\u001b[0m\u001b[37m\u001b[0m \u001b[1m3s\u001b[0m 217ms/step - accuracy: 0.1781 - loss: 3.1895 - val_accuracy: 0.1000 - val_loss: 4.8968\n",
      "Epoch 26/100\n",
      "\u001b[1m12/12\u001b[0m \u001b[32m━━━━━━━━━━━━━━━━━━━━\u001b[0m\u001b[37m\u001b[0m \u001b[1m3s\u001b[0m 208ms/step - accuracy: 0.1991 - loss: 3.1338 - val_accuracy: 0.1080 - val_loss: 5.0208\n",
      "Epoch 27/100\n",
      "\u001b[1m12/12\u001b[0m \u001b[32m━━━━━━━━━━━━━━━━━━━━\u001b[0m\u001b[37m\u001b[0m \u001b[1m3s\u001b[0m 206ms/step - accuracy: 0.2076 - loss: 3.0436 - val_accuracy: 0.1020 - val_loss: 5.2143\n",
      "Epoch 28/100\n",
      "\u001b[1m12/12\u001b[0m \u001b[32m━━━━━━━━━━━━━━━━━━━━\u001b[0m\u001b[37m\u001b[0m \u001b[1m4s\u001b[0m 265ms/step - accuracy: 0.1846 - loss: 3.1552 - val_accuracy: 0.1207 - val_loss: 5.4167\n",
      "Epoch 29/100\n",
      "\u001b[1m12/12\u001b[0m \u001b[32m━━━━━━━━━━━━━━━━━━━━\u001b[0m\u001b[37m\u001b[0m \u001b[1m3s\u001b[0m 229ms/step - accuracy: 0.2007 - loss: 3.0851 - val_accuracy: 0.1207 - val_loss: 4.6944\n",
      "Epoch 30/100\n",
      "\u001b[1m12/12\u001b[0m \u001b[32m━━━━━━━━━━━━━━━━━━━━\u001b[0m\u001b[37m\u001b[0m \u001b[1m3s\u001b[0m 221ms/step - accuracy: 0.2022 - loss: 3.0852 - val_accuracy: 0.0893 - val_loss: 5.8714\n",
      "Epoch 31/100\n",
      "\u001b[1m12/12\u001b[0m \u001b[32m━━━━━━━━━━━━━━━━━━━━\u001b[0m\u001b[37m\u001b[0m \u001b[1m3s\u001b[0m 229ms/step - accuracy: 0.1756 - loss: 3.2545 - val_accuracy: 0.0820 - val_loss: 4.4903\n",
      "Epoch 32/100\n",
      "\u001b[1m12/12\u001b[0m \u001b[32m━━━━━━━━━━━━━━━━━━━━\u001b[0m\u001b[37m\u001b[0m \u001b[1m3s\u001b[0m 208ms/step - accuracy: 0.1543 - loss: 3.2487 - val_accuracy: 0.1007 - val_loss: 4.4714\n",
      "Epoch 33/100\n",
      "\u001b[1m12/12\u001b[0m \u001b[32m━━━━━━━━━━━━━━━━━━━━\u001b[0m\u001b[37m\u001b[0m \u001b[1m3s\u001b[0m 205ms/step - accuracy: 0.1979 - loss: 3.0926 - val_accuracy: 0.1287 - val_loss: 5.2055\n",
      "Epoch 34/100\n",
      "\u001b[1m12/12\u001b[0m \u001b[32m━━━━━━━━━━━━━━━━━━━━\u001b[0m\u001b[37m\u001b[0m \u001b[1m4s\u001b[0m 233ms/step - accuracy: 0.2101 - loss: 3.0628 - val_accuracy: 0.1160 - val_loss: 4.9345\n",
      "Epoch 35/100\n",
      "\u001b[1m12/12\u001b[0m \u001b[32m━━━━━━━━━━━━━━━━━━━━\u001b[0m\u001b[37m\u001b[0m \u001b[1m3s\u001b[0m 209ms/step - accuracy: 0.1955 - loss: 3.0409 - val_accuracy: 0.0907 - val_loss: 5.2214\n",
      "Epoch 36/100\n",
      "\u001b[1m12/12\u001b[0m \u001b[32m━━━━━━━━━━━━━━━━━━━━\u001b[0m\u001b[37m\u001b[0m \u001b[1m3s\u001b[0m 206ms/step - accuracy: 0.2108 - loss: 3.0197 - val_accuracy: 0.1140 - val_loss: 5.5108\n",
      "Epoch 37/100\n",
      "\u001b[1m12/12\u001b[0m \u001b[32m━━━━━━━━━━━━━━━━━━━━\u001b[0m\u001b[37m\u001b[0m \u001b[1m3s\u001b[0m 205ms/step - accuracy: 0.2305 - loss: 2.9397 - val_accuracy: 0.1267 - val_loss: 5.8615\n",
      "Epoch 38/100\n",
      "\u001b[1m12/12\u001b[0m \u001b[32m━━━━━━━━━━━━━━━━━━━━\u001b[0m\u001b[37m\u001b[0m \u001b[1m3s\u001b[0m 213ms/step - accuracy: 0.2515 - loss: 2.8843 - val_accuracy: 0.1133 - val_loss: 5.2164\n",
      "Epoch 39/100\n",
      "\u001b[1m12/12\u001b[0m \u001b[32m━━━━━━━━━━━━━━━━━━━━\u001b[0m\u001b[37m\u001b[0m \u001b[1m3s\u001b[0m 224ms/step - accuracy: 0.2320 - loss: 2.9096 - val_accuracy: 0.1160 - val_loss: 5.4247\n",
      "Epoch 40/100\n",
      "\u001b[1m12/12\u001b[0m \u001b[32m━━━━━━━━━━━━━━━━━━━━\u001b[0m\u001b[37m\u001b[0m \u001b[1m3s\u001b[0m 231ms/step - accuracy: 0.2592 - loss: 2.8000 - val_accuracy: 0.1353 - val_loss: 6.5458\n",
      "Epoch 41/100\n",
      "\u001b[1m12/12\u001b[0m \u001b[32m━━━━━━━━━━━━━━━━━━━━\u001b[0m\u001b[37m\u001b[0m \u001b[1m3s\u001b[0m 221ms/step - accuracy: 0.2643 - loss: 2.7779 - val_accuracy: 0.1367 - val_loss: 5.8373\n",
      "Epoch 42/100\n",
      "\u001b[1m12/12\u001b[0m \u001b[32m━━━━━━━━━━━━━━━━━━━━\u001b[0m\u001b[37m\u001b[0m \u001b[1m3s\u001b[0m 215ms/step - accuracy: 0.2721 - loss: 2.7669 - val_accuracy: 0.1327 - val_loss: 5.7715\n",
      "Epoch 43/100\n",
      "\u001b[1m12/12\u001b[0m \u001b[32m━━━━━━━━━━━━━━━━━━━━\u001b[0m\u001b[37m\u001b[0m \u001b[1m3s\u001b[0m 214ms/step - accuracy: 0.2601 - loss: 2.7851 - val_accuracy: 0.1273 - val_loss: 6.2507\n",
      "Epoch 44/100\n",
      "\u001b[1m12/12\u001b[0m \u001b[32m━━━━━━━━━━━━━━━━━━━━\u001b[0m\u001b[37m\u001b[0m \u001b[1m3s\u001b[0m 235ms/step - accuracy: 0.2551 - loss: 2.8175 - val_accuracy: 0.1213 - val_loss: 6.1587\n",
      "Epoch 45/100\n",
      "\u001b[1m12/12\u001b[0m \u001b[32m━━━━━━━━━━━━━━━━━━━━\u001b[0m\u001b[37m\u001b[0m \u001b[1m3s\u001b[0m 225ms/step - accuracy: 0.2953 - loss: 2.6987 - val_accuracy: 0.1473 - val_loss: 6.0798\n",
      "Epoch 46/100\n",
      "\u001b[1m12/12\u001b[0m \u001b[32m━━━━━━━━━━━━━━━━━━━━\u001b[0m\u001b[37m\u001b[0m \u001b[1m3s\u001b[0m 210ms/step - accuracy: 0.2871 - loss: 2.7448 - val_accuracy: 0.1420 - val_loss: 5.9351\n",
      "Epoch 47/100\n",
      "\u001b[1m12/12\u001b[0m \u001b[32m━━━━━━━━━━━━━━━━━━━━\u001b[0m\u001b[37m\u001b[0m \u001b[1m3s\u001b[0m 229ms/step - accuracy: 0.2824 - loss: 2.7302 - val_accuracy: 0.1360 - val_loss: 5.2736\n",
      "Epoch 48/100\n",
      "\u001b[1m12/12\u001b[0m \u001b[32m━━━━━━━━━━━━━━━━━━━━\u001b[0m\u001b[37m\u001b[0m \u001b[1m3s\u001b[0m 221ms/step - accuracy: 0.2533 - loss: 2.8254 - val_accuracy: 0.1233 - val_loss: 4.8912\n",
      "Epoch 49/100\n",
      "\u001b[1m12/12\u001b[0m \u001b[32m━━━━━━━━━━━━━━━━━━━━\u001b[0m\u001b[37m\u001b[0m \u001b[1m3s\u001b[0m 210ms/step - accuracy: 0.2472 - loss: 2.9395 - val_accuracy: 0.1460 - val_loss: 5.4398\n",
      "Epoch 50/100\n",
      "\u001b[1m12/12\u001b[0m \u001b[32m━━━━━━━━━━━━━━━━━━━━\u001b[0m\u001b[37m\u001b[0m \u001b[1m3s\u001b[0m 215ms/step - accuracy: 0.2979 - loss: 2.6836 - val_accuracy: 0.1460 - val_loss: 5.1849\n",
      "Epoch 51/100\n",
      "\u001b[1m12/12\u001b[0m \u001b[32m━━━━━━━━━━━━━━━━━━━━\u001b[0m\u001b[37m\u001b[0m \u001b[1m3s\u001b[0m 215ms/step - accuracy: 0.2984 - loss: 2.6846 - val_accuracy: 0.1307 - val_loss: 5.0590\n",
      "Epoch 52/100\n",
      "\u001b[1m12/12\u001b[0m \u001b[32m━━━━━━━━━━━━━━━━━━━━\u001b[0m\u001b[37m\u001b[0m \u001b[1m3s\u001b[0m 218ms/step - accuracy: 0.2993 - loss: 2.6326 - val_accuracy: 0.1613 - val_loss: 5.7832\n",
      "Epoch 53/100\n",
      "\u001b[1m12/12\u001b[0m \u001b[32m━━━━━━━━━━━━━━━━━━━━\u001b[0m\u001b[37m\u001b[0m \u001b[1m3s\u001b[0m 214ms/step - accuracy: 0.3017 - loss: 2.6298 - val_accuracy: 0.1587 - val_loss: 6.3855\n",
      "Epoch 54/100\n",
      "\u001b[1m12/12\u001b[0m \u001b[32m━━━━━━━━━━━━━━━━━━━━\u001b[0m\u001b[37m\u001b[0m \u001b[1m3s\u001b[0m 209ms/step - accuracy: 0.3400 - loss: 2.5015 - val_accuracy: 0.1453 - val_loss: 7.3209\n",
      "Epoch 55/100\n",
      "\u001b[1m12/12\u001b[0m \u001b[32m━━━━━━━━━━━━━━━━━━━━\u001b[0m\u001b[37m\u001b[0m \u001b[1m3s\u001b[0m 205ms/step - accuracy: 0.3190 - loss: 2.5337 - val_accuracy: 0.1540 - val_loss: 7.2086\n",
      "Epoch 56/100\n",
      "\u001b[1m12/12\u001b[0m \u001b[32m━━━━━━━━━━━━━━━━━━━━\u001b[0m\u001b[37m\u001b[0m \u001b[1m3s\u001b[0m 205ms/step - accuracy: 0.3270 - loss: 2.5261 - val_accuracy: 0.1533 - val_loss: 6.5600\n",
      "Epoch 57/100\n",
      "\u001b[1m12/12\u001b[0m \u001b[32m━━━━━━━━━━━━━━━━━━━━\u001b[0m\u001b[37m\u001b[0m \u001b[1m3s\u001b[0m 215ms/step - accuracy: 0.3472 - loss: 2.4899 - val_accuracy: 0.0480 - val_loss: 8.8937\n",
      "Epoch 58/100\n",
      "\u001b[1m12/12\u001b[0m \u001b[32m━━━━━━━━━━━━━━━━━━━━\u001b[0m\u001b[37m\u001b[0m \u001b[1m3s\u001b[0m 206ms/step - accuracy: 0.1342 - loss: 4.1146 - val_accuracy: 0.0720 - val_loss: 4.5004\n",
      "Epoch 59/100\n",
      "\u001b[1m12/12\u001b[0m \u001b[32m━━━━━━━━━━━━━━━━━━━━\u001b[0m\u001b[37m\u001b[0m \u001b[1m3s\u001b[0m 211ms/step - accuracy: 0.1311 - loss: 3.5737 - val_accuracy: 0.0907 - val_loss: 5.5875\n",
      "Epoch 60/100\n",
      "\u001b[1m12/12\u001b[0m \u001b[32m━━━━━━━━━━━━━━━━━━━━\u001b[0m\u001b[37m\u001b[0m \u001b[1m3s\u001b[0m 208ms/step - accuracy: 0.2007 - loss: 3.2276 - val_accuracy: 0.1107 - val_loss: 6.0941\n",
      "Epoch 61/100\n",
      "\u001b[1m12/12\u001b[0m \u001b[32m━━━━━━━━━━━━━━━━━━━━\u001b[0m\u001b[37m\u001b[0m \u001b[1m3s\u001b[0m 215ms/step - accuracy: 0.2524 - loss: 2.9019 - val_accuracy: 0.1247 - val_loss: 5.7744\n",
      "Epoch 62/100\n",
      "\u001b[1m12/12\u001b[0m \u001b[32m━━━━━━━━━━━━━━━━━━━━\u001b[0m\u001b[37m\u001b[0m \u001b[1m3s\u001b[0m 212ms/step - accuracy: 0.2859 - loss: 2.6909 - val_accuracy: 0.1493 - val_loss: 6.2176\n",
      "Epoch 63/100\n",
      "\u001b[1m12/12\u001b[0m \u001b[32m━━━━━━━━━━━━━━━━━━━━\u001b[0m\u001b[37m\u001b[0m \u001b[1m3s\u001b[0m 209ms/step - accuracy: 0.3199 - loss: 2.6352 - val_accuracy: 0.1580 - val_loss: 6.5102\n",
      "Epoch 64/100\n",
      "\u001b[1m12/12\u001b[0m \u001b[32m━━━━━━━━━━━━━━━━━━━━\u001b[0m\u001b[37m\u001b[0m \u001b[1m3s\u001b[0m 212ms/step - accuracy: 0.3397 - loss: 2.5095 - val_accuracy: 0.1547 - val_loss: 7.8665\n",
      "Epoch 65/100\n",
      "\u001b[1m12/12\u001b[0m \u001b[32m━━━━━━━━━━━━━━━━━━━━\u001b[0m\u001b[37m\u001b[0m \u001b[1m3s\u001b[0m 211ms/step - accuracy: 0.3087 - loss: 2.5991 - val_accuracy: 0.1533 - val_loss: 6.9347\n",
      "Epoch 66/100\n",
      "\u001b[1m12/12\u001b[0m \u001b[32m━━━━━━━━━━━━━━━━━━━━\u001b[0m\u001b[37m\u001b[0m \u001b[1m3s\u001b[0m 205ms/step - accuracy: 0.3251 - loss: 2.5773 - val_accuracy: 0.1467 - val_loss: 7.6955\n",
      "Epoch 67/100\n",
      "\u001b[1m12/12\u001b[0m \u001b[32m━━━━━━━━━━━━━━━━━━━━\u001b[0m\u001b[37m\u001b[0m \u001b[1m3s\u001b[0m 212ms/step - accuracy: 0.3244 - loss: 2.5471 - val_accuracy: 0.1393 - val_loss: 6.5872\n",
      "Epoch 68/100\n",
      "\u001b[1m12/12\u001b[0m \u001b[32m━━━━━━━━━━━━━━━━━━━━\u001b[0m\u001b[37m\u001b[0m \u001b[1m3s\u001b[0m 208ms/step - accuracy: 0.3530 - loss: 2.4211 - val_accuracy: 0.1533 - val_loss: 7.7175\n",
      "Epoch 69/100\n",
      "\u001b[1m12/12\u001b[0m \u001b[32m━━━━━━━━━━━━━━━━━━━━\u001b[0m\u001b[37m\u001b[0m \u001b[1m3s\u001b[0m 209ms/step - accuracy: 0.3683 - loss: 2.4597 - val_accuracy: 0.1427 - val_loss: 7.6317\n",
      "Epoch 70/100\n",
      "\u001b[1m12/12\u001b[0m \u001b[32m━━━━━━━━━━━━━━━━━━━━\u001b[0m\u001b[37m\u001b[0m \u001b[1m3s\u001b[0m 218ms/step - accuracy: 0.3546 - loss: 2.4160 - val_accuracy: 0.1527 - val_loss: 8.6628\n",
      "Epoch 71/100\n",
      "\u001b[1m12/12\u001b[0m \u001b[32m━━━━━━━━━━━━━━━━━━━━\u001b[0m\u001b[37m\u001b[0m \u001b[1m3s\u001b[0m 212ms/step - accuracy: 0.3763 - loss: 2.3152 - val_accuracy: 0.1407 - val_loss: 8.7082\n",
      "Epoch 72/100\n",
      "\u001b[1m12/12\u001b[0m \u001b[32m━━━━━━━━━━━━━━━━━━━━\u001b[0m\u001b[37m\u001b[0m \u001b[1m3s\u001b[0m 208ms/step - accuracy: 0.3437 - loss: 2.4486 - val_accuracy: 0.1387 - val_loss: 8.0664\n",
      "Epoch 73/100\n",
      "\u001b[1m12/12\u001b[0m \u001b[32m━━━━━━━━━━━━━━━━━━━━\u001b[0m\u001b[37m\u001b[0m \u001b[1m3s\u001b[0m 228ms/step - accuracy: 0.3576 - loss: 2.4075 - val_accuracy: 0.1427 - val_loss: 7.0221\n",
      "Epoch 74/100\n",
      "\u001b[1m12/12\u001b[0m \u001b[32m━━━━━━━━━━━━━━━━━━━━\u001b[0m\u001b[37m\u001b[0m \u001b[1m3s\u001b[0m 215ms/step - accuracy: 0.3544 - loss: 2.4413 - val_accuracy: 0.1420 - val_loss: 8.5578\n",
      "Epoch 75/100\n",
      "\u001b[1m12/12\u001b[0m \u001b[32m━━━━━━━━━━━━━━━━━━━━\u001b[0m\u001b[37m\u001b[0m \u001b[1m3s\u001b[0m 209ms/step - accuracy: 0.3041 - loss: 2.6674 - val_accuracy: 0.1367 - val_loss: 6.1860\n",
      "Epoch 76/100\n",
      "\u001b[1m12/12\u001b[0m \u001b[32m━━━━━━━━━━━━━━━━━━━━\u001b[0m\u001b[37m\u001b[0m \u001b[1m3s\u001b[0m 209ms/step - accuracy: 0.3163 - loss: 2.5275 - val_accuracy: 0.1507 - val_loss: 5.9457\n",
      "Epoch 77/100\n",
      "\u001b[1m12/12\u001b[0m \u001b[32m━━━━━━━━━━━━━━━━━━━━\u001b[0m\u001b[37m\u001b[0m \u001b[1m3s\u001b[0m 214ms/step - accuracy: 0.3520 - loss: 2.4192 - val_accuracy: 0.1493 - val_loss: 6.8175\n",
      "Epoch 78/100\n",
      "\u001b[1m12/12\u001b[0m \u001b[32m━━━━━━━━━━━━━━━━━━━━\u001b[0m\u001b[37m\u001b[0m \u001b[1m3s\u001b[0m 217ms/step - accuracy: 0.3535 - loss: 2.4219 - val_accuracy: 0.1447 - val_loss: 6.1883\n",
      "Epoch 79/100\n",
      "\u001b[1m12/12\u001b[0m \u001b[32m━━━━━━━━━━━━━━━━━━━━\u001b[0m\u001b[37m\u001b[0m \u001b[1m3s\u001b[0m 212ms/step - accuracy: 0.3340 - loss: 2.4962 - val_accuracy: 0.1607 - val_loss: 8.2495\n",
      "Epoch 80/100\n",
      "\u001b[1m12/12\u001b[0m \u001b[32m━━━━━━━━━━━━━━━━━━━━\u001b[0m\u001b[37m\u001b[0m \u001b[1m3s\u001b[0m 211ms/step - accuracy: 0.3756 - loss: 2.3626 - val_accuracy: 0.1433 - val_loss: 6.9043\n",
      "Epoch 81/100\n",
      "\u001b[1m12/12\u001b[0m \u001b[32m━━━━━━━━━━━━━━━━━━━━\u001b[0m\u001b[37m\u001b[0m \u001b[1m3s\u001b[0m 213ms/step - accuracy: 0.3690 - loss: 2.3574 - val_accuracy: 0.1447 - val_loss: 7.1580\n",
      "Epoch 82/100\n",
      "\u001b[1m12/12\u001b[0m \u001b[32m━━━━━━━━━━━━━━━━━━━━\u001b[0m\u001b[37m\u001b[0m \u001b[1m3s\u001b[0m 207ms/step - accuracy: 0.3897 - loss: 2.3058 - val_accuracy: 0.1500 - val_loss: 7.8192\n",
      "Epoch 83/100\n",
      "\u001b[1m12/12\u001b[0m \u001b[32m━━━━━━━━━━━━━━━━━━━━\u001b[0m\u001b[37m\u001b[0m \u001b[1m3s\u001b[0m 219ms/step - accuracy: 0.3667 - loss: 2.3484 - val_accuracy: 0.1507 - val_loss: 6.8113\n",
      "Epoch 84/100\n",
      "\u001b[1m12/12\u001b[0m \u001b[32m━━━━━━━━━━━━━━━━━━━━\u001b[0m\u001b[37m\u001b[0m \u001b[1m3s\u001b[0m 210ms/step - accuracy: 0.3863 - loss: 2.3123 - val_accuracy: 0.1540 - val_loss: 7.7031\n",
      "Epoch 85/100\n",
      "\u001b[1m12/12\u001b[0m \u001b[32m━━━━━━━━━━━━━━━━━━━━\u001b[0m\u001b[37m\u001b[0m \u001b[1m3s\u001b[0m 220ms/step - accuracy: 0.3843 - loss: 2.3257 - val_accuracy: 0.1573 - val_loss: 8.4467\n",
      "Epoch 86/100\n",
      "\u001b[1m12/12\u001b[0m \u001b[32m━━━━━━━━━━━━━━━━━━━━\u001b[0m\u001b[37m\u001b[0m \u001b[1m3s\u001b[0m 211ms/step - accuracy: 0.3925 - loss: 2.2770 - val_accuracy: 0.1380 - val_loss: 8.4120\n",
      "Epoch 87/100\n",
      "\u001b[1m12/12\u001b[0m \u001b[32m━━━━━━━━━━━━━━━━━━━━\u001b[0m\u001b[37m\u001b[0m \u001b[1m3s\u001b[0m 215ms/step - accuracy: 0.3684 - loss: 2.3661 - val_accuracy: 0.1500 - val_loss: 8.1638\n",
      "Epoch 88/100\n",
      "\u001b[1m12/12\u001b[0m \u001b[32m━━━━━━━━━━━━━━━━━━━━\u001b[0m\u001b[37m\u001b[0m \u001b[1m3s\u001b[0m 206ms/step - accuracy: 0.3887 - loss: 2.3461 - val_accuracy: 0.1440 - val_loss: 7.9233\n",
      "Epoch 89/100\n",
      "\u001b[1m12/12\u001b[0m \u001b[32m━━━━━━━━━━━━━━━━━━━━\u001b[0m\u001b[37m\u001b[0m \u001b[1m3s\u001b[0m 211ms/step - accuracy: 0.3915 - loss: 2.3006 - val_accuracy: 0.1553 - val_loss: 8.9186\n",
      "Epoch 90/100\n",
      "\u001b[1m12/12\u001b[0m \u001b[32m━━━━━━━━━━━━━━━━━━━━\u001b[0m\u001b[37m\u001b[0m \u001b[1m3s\u001b[0m 206ms/step - accuracy: 0.4067 - loss: 2.2463 - val_accuracy: 0.1567 - val_loss: 8.5832\n",
      "Epoch 91/100\n",
      "\u001b[1m12/12\u001b[0m \u001b[32m━━━━━━━━━━━━━━━━━━━━\u001b[0m\u001b[37m\u001b[0m \u001b[1m3s\u001b[0m 206ms/step - accuracy: 0.3874 - loss: 2.3120 - val_accuracy: 0.1533 - val_loss: 9.3428\n",
      "Epoch 92/100\n",
      "\u001b[1m12/12\u001b[0m \u001b[32m━━━━━━━━━━━━━━━━━━━━\u001b[0m\u001b[37m\u001b[0m \u001b[1m3s\u001b[0m 205ms/step - accuracy: 0.4176 - loss: 2.2098 - val_accuracy: 0.1520 - val_loss: 9.3398\n",
      "Epoch 93/100\n",
      "\u001b[1m12/12\u001b[0m \u001b[32m━━━━━━━━━━━━━━━━━━━━\u001b[0m\u001b[37m\u001b[0m \u001b[1m3s\u001b[0m 205ms/step - accuracy: 0.4008 - loss: 2.2586 - val_accuracy: 0.1520 - val_loss: 9.9473\n",
      "Epoch 94/100\n",
      "\u001b[1m12/12\u001b[0m \u001b[32m━━━━━━━━━━━━━━━━━━━━\u001b[0m\u001b[37m\u001b[0m \u001b[1m3s\u001b[0m 213ms/step - accuracy: 0.4228 - loss: 2.2062 - val_accuracy: 0.1493 - val_loss: 9.8864\n",
      "Epoch 95/100\n",
      "\u001b[1m12/12\u001b[0m \u001b[32m━━━━━━━━━━━━━━━━━━━━\u001b[0m\u001b[37m\u001b[0m \u001b[1m3s\u001b[0m 216ms/step - accuracy: 0.4209 - loss: 2.2192 - val_accuracy: 0.1413 - val_loss: 10.0181\n",
      "Epoch 96/100\n",
      "\u001b[1m12/12\u001b[0m \u001b[32m━━━━━━━━━━━━━━━━━━━━\u001b[0m\u001b[37m\u001b[0m \u001b[1m3s\u001b[0m 206ms/step - accuracy: 0.4002 - loss: 2.2748 - val_accuracy: 0.1527 - val_loss: 10.0377\n",
      "Epoch 97/100\n",
      "\u001b[1m12/12\u001b[0m \u001b[32m━━━━━━━━━━━━━━━━━━━━\u001b[0m\u001b[37m\u001b[0m \u001b[1m3s\u001b[0m 205ms/step - accuracy: 0.4050 - loss: 2.2283 - val_accuracy: 0.1533 - val_loss: 9.8285\n",
      "Epoch 98/100\n",
      "\u001b[1m12/12\u001b[0m \u001b[32m━━━━━━━━━━━━━━━━━━━━\u001b[0m\u001b[37m\u001b[0m \u001b[1m3s\u001b[0m 224ms/step - accuracy: 0.3920 - loss: 2.3244 - val_accuracy: 0.1560 - val_loss: 10.3808\n",
      "Epoch 99/100\n",
      "\u001b[1m12/12\u001b[0m \u001b[32m━━━━━━━━━━━━━━━━━━━━\u001b[0m\u001b[37m\u001b[0m \u001b[1m3s\u001b[0m 215ms/step - accuracy: 0.4124 - loss: 2.2395 - val_accuracy: 0.1480 - val_loss: 9.0842\n",
      "Epoch 100/100\n",
      "\u001b[1m12/12\u001b[0m \u001b[32m━━━━━━━━━━━━━━━━━━━━\u001b[0m\u001b[37m\u001b[0m \u001b[1m3s\u001b[0m 207ms/step - accuracy: 0.3988 - loss: 2.3022 - val_accuracy: 0.1520 - val_loss: 10.1269\n"
     ]
    }
   ],
   "source": [
    "# Remove callbacks so the model will run for all 50 epochs.\n",
    "history = model.fit(\n",
    "    train_ds,\n",
    "    epochs=100,\n",
    "    validation_data=valid_ds,\n",
    "    #callbacks=[earlystopping_cb, mdlcheckpoint_cb],\n",
    ")"
   ]
  },
  {
   "cell_type": "code",
   "execution_count": 90,
   "metadata": {},
   "outputs": [
    {
     "data": {
      "text/plain": [
       "<matplotlib.legend.Legend at 0x10c342c90>"
      ]
     },
     "execution_count": 90,
     "metadata": {},
     "output_type": "execute_result"
    },
    {
     "data": {
      "image/png": "[encoded data removed]",
      "text/plain": [
       "<Figure size 640x480 with 1 Axes>"
      ]
     },
     "metadata": {},
     "output_type": "display_data"
    }
   ],
   "source": [
    "plt.plot(history.history['accuracy'], label='accuracy')\n",
    "plt.plot(history.history['val_accuracy'], label='val_accuracy')\n",
    "plt.legend()"
   ]
  },
  {
   "cell_type": "markdown",
   "metadata": {},
   "source": [
    "Show the most misclassified cases:"
   ]
  },
  {
   "cell_type": "code",
   "execution_count": 99,
   "metadata": {},
   "outputs": [
    {
     "name": "stdout",
     "output_type": "stream",
     "text": [
      "\u001b[1m12/12\u001b[0m \u001b[32m━━━━━━━━━━━━━━━━━━━━\u001b[0m\u001b[37m\u001b[0m \u001b[1m1s\u001b[0m 51ms/step\n"
     ]
    }
   ],
   "source": [
    "train_preds = model.predict(train_ds).argmax(axis=1)"
   ]
  },
  {
   "cell_type": "code",
   "execution_count": 101,
   "metadata": {},
   "outputs": [
    {
     "name": "stdout",
     "output_type": "stream",
     "text": [
      "Class 6 misclassified as 91: 8 times\n",
      "Class 6 misclassified as 2: 7 times\n",
      "Class 28 misclassified as 1: 6 times\n",
      "Class 6 misclassified as 19: 6 times\n",
      "Class 28 misclassified as 38: 6 times\n",
      "Class 6 misclassified as 48: 6 times\n",
      "Class 28 misclassified as 105: 6 times\n",
      "Class 6 misclassified as 94: 6 times\n",
      "Class 6 misclassified as 108: 6 times\n",
      "Class 6 misclassified as 146: 6 times\n"
     ]
    }
   ],
   "source": [
    "from collections import Counter\n",
    "\n",
    "# Find misclassified instances\n",
    "misclassified = [(true, pred) for true, pred in zip(train_preds, train_labels) if true != pred]\n",
    "\n",
    "# Count most frequent misclassifications\n",
    "misclass_counter = Counter(misclassified)\n",
    "most_common_misclass = misclass_counter.most_common(10)\n",
    "\n",
    "# Display most common misclassifications\n",
    "for (true, pred), count in most_common_misclass:\n",
    "    print(f\"Class {true} misclassified as {pred}: {count} times\")"
   ]
  },
  {
   "cell_type": "markdown",
   "metadata": {},
   "source": [
    "Show loss and accuracy on the validation set:"
   ]
  },
  {
   "cell_type": "code",
   "execution_count": 102,
   "metadata": {},
   "outputs": [
    {
     "name": "stdout",
     "output_type": "stream",
     "text": [
      "\u001b[1m47/47\u001b[0m \u001b[32m━━━━━━━━━━━━━━━━━━━━\u001b[0m\u001b[37m\u001b[0m \u001b[1m1s\u001b[0m 19ms/step - accuracy: 0.1580 - loss: 14.5220\n",
      "[10.12694263458252, 0.15199999511241913]\n"
     ]
    }
   ],
   "source": [
    "print(model.evaluate(valid_ds))"
   ]
  },
  {
   "cell_type": "markdown",
   "metadata": {},
   "source": [
    "While 15% accuracy isn't great, I found it impressive that the model performed this well. There are 150 classes, where the training data was all people only saying \"Machine Learning 1, 2, 3, 4, 5\" and the testing data contained many different phrases. It would be interesting to try this the other way around. What I did as the testing data was probably better to train on and harder to predict. In the example we were following, they only used 5 voices. It would require us to build a more complex or custom model, or even collect more data from out 150 subjects to be able to get this accuracy much higher."
   ]
  },
  {
   "cell_type": "markdown",
   "metadata": {},
   "source": [
    "## Demonstration"
   ]
  },
  {
   "cell_type": "code",
   "execution_count": 104,
   "metadata": {},
   "outputs": [
    {
     "name": "stdout",
     "output_type": "stream",
     "text": [
      "\u001b[1m4/4\u001b[0m \u001b[32m━━━━━━━━━━━━━━━━━━━━\u001b[0m\u001b[37m\u001b[0m \u001b[1m0s\u001b[0m 15ms/step\n",
      "Speaker:\u001b[91m 116\u001b[0m\tPredicted:\u001b[91m 66\u001b[0m\n"
     ]
    },
    {
     "data": {
      "text/html": [
       "\n",
       "                <audio  controls=\"controls\" >\n",
       "                    <source src=\"data:audio/wav;base64,UklGRtwLAABXQVZFZm10IBAAAAABAAEA3AUAALgLAAACABAAZGF0YbgLAAABwAHAAcABwAHAAcABgAHAAcAAAAAAAAABwAHAAcAAAAAA/z8AAAAAAAAAAAAA/z//PwAAAAABwAHAAcABwAHAAcABwAHAAcAAAAAAAAABwAHAAYABgAHAAcABwAHAAYABgAHAAcAAAAAAAAABwAHAAYABgAHAAcAAAAAAAAAAAAAA/z//PwAAAAABwAHAAcAAAAAAAAAAAAHAAcABwAHAAcABwAHAAYABgAHAAcAAAAAAAAAAAAAAAAAAAAAAAAABwAHAAcABwAHAAcABwAHAAcABwAHAAcABwAHAAYABgAHAAcAAAAAAAAAAAAAAAAAAAAAAAAAAAAAA/z//P/8/AAAAAAHAAcABwAHAAcABwAHAAcABwAHAAcABwAHAAYABgAHAAcAAAAAAAAABwAHAAcAAAAAAAAAAAAAAAAD/PwAAAAABwAHAAcAAAAAA/z//PwAAAAD/PwAAAAAAAAHAAcAAAAAAAAAAAAAAAAAAAAAAAAABwAHAAcABwAAAAAAAAAAAAcABwAHAAcAAAAAAAAABwAHAAcAAAAAAAAABwAHAAcABwAHAAcABwAHAAcABwAHAAcABwAHAAcAAAAAAAAABwAHAAcABwAHAAcABwAHAAcABwAHAAcAAAAAAAAABwAHAAcAAAAAAAAAAAAAAAAABwAHAAAAAAAAAAAAAAAHAAcABwAHAAcABwAHAAcAAAAAAAAAAAAAAAAAAAAAAAAABwAHAAcABwAHAAcAAAAAAAAAAAAAAAAABwAHAAcAAAAAAAAAAAAAAAAAAAAAAAAABwAHAAcAAAAAAAAABwAHAAcABwAHAAcABwAHAAcAAAAAAAAABwAHAAcAAAAAAAAABwAHAAcABwAHAAcABwAHAAcAAAAAAAAABwAHAAcAAAAAAAAABwAHAAcABwAHAAcABwAHAAcAAAAAAAAABwAHAAcAAAAAAAAAAAAAAAAAAAAAAAAAAAAAAAAAAAAAAAAAAAAHAAcABwAHAAcABwAHAAcABwAHAAcABwAHAAcAAAAAAAAABwAHAAcABwAHAAcAAAAAAAAAAAAAAAAABwAHAAcAAAAAAAAABwAHAAcAAAAAAAAABwAHAAcAAAAAAAAAAAAAAAAAAAAAAAAAAAAAAAAABwAHAAcAAAAAAAAABwAHAAcAAAAAAAAAAAAAAAAAAAAAAAAABwAHAAcAAAAAAAAABwAHAAcABwAAAAAAAAAAAAAABwAHAAcABwAHAAcABwAHAAcABwAHAAcABwAAAAAAAAAAAAAABwAHAAcABwAHAAcABwAHAAcABwAHAAcAAAAAAAAAAAAAAAAAAAAAAAAABwAHAAcABwAHAAcABwAHAAcABwAHAAcAAAAAAAAABwAHAAcABwAHAAcAAAAAAAAABwAHAAcABwAHAAcAAAAAAAAAAAAAAAAABwAHAAcABwAHAAcABwAHAAcABwAHAAcAAAAAAAAAAAAAAAAAAAAAAAAAAAAAAAAABwAHAAAAAAAAAAAABwAHAAcAAAAAAAAABwAHAAcAAAAAAAAABwAHAAcABwAHAAcABwAHAAcABwAHAAcABwAHAAcAAAAAAAAABwAHAAcAAAAAAAAABwAHAAcABwAHAAcABwAHAAcAAAAAAAAAAAAAAAAAAAAAAAAABwAHAAcAAAAAAAAAAAAHAAcABwAHAAcAAAAAAAAABwAHAAcABwAHAAcAAAAAAAAABwAHAAcABwAHAAcABwAHAAcAAAAAAAAAAAAAAAAAAAAAAAAAAAAAAAAAAAAAAAAAAAAAAAAAAAAAAAAABwAHAAcAAAAAAAAAAAAAAAAAAAAAAAAABwAHAAcABwAHAAcAAAAAAAAAAAAAAAAAAAAAAAAAAAAAAAAABwAHAAcABwAHAAcABwAHAAcABwAHAAcABwAAAAAAAAAAAAAABwAHAAcABwAHAAcAAAAAAAAABwAHAAcAAAAAAAAAAAAAAAAAAAAAAAAABwAHAAcABwAHAAcABwAHAAcAAAAAAAAABwAHAAcABwAHAAcAAAAAAAAABwAHAAcABwAHAAcABwAHAAcABwAHAAcABwAHAAcAAAAAAAAABwAHAAcABwAHAAcAAAAAAAAAAAAAAAAABwAHAAcABwAHAAcABwAHAAcABwAHAAcAAAAAAAAAAAAAAAAAAAAAAAAABwAHAAcAAAAAAAAABwAHAAcAAAAAAAAABwAHAAcAAAAAAAAAAAAAAAAAAAAAAAAAAAAAAAAAAAAAAAAABwAHAAcAAAAAAAAABwAHAAcAAAAAAAAABwAHAAcABwAHAAcABwAHAAcAAAAAAAAABwAHAAcABwAHAAcAAAAAAAAABwAHAAcABwAHAAcABwAHAAcAAAAAAAAAAAAAAAAAAAAAAAAAAAAAAAAAAAAHAAcABwAHAAcABwAHAAcAAAAAAAAAAAAAAAAABwAHAAcAAAAAAAAAAAAAAAAABwAHAAcAAAAAAAAABwAHAAcABwAHAAcABwAHAAcABwAAAAAAAAAAAAcABwAHAAcAAAAAAAAAAAAAAAAAAAAAAAAAAAAAAAAAAAAAAAAABwAHAAcAAAAAAAAAAAAAAAAAAAAAAAAAAAAAAAAAAAAAAAAABwAHAAcAAAAAAAAABwAHAAcABwAHAAcAAAAAAAAAAAAAAAAAAAAAAAAAAAAAAAAAAAAAAAAAAAAAAAAAAAAAAAAABwAHAAcABwAHAAcABwAHAAcAAAAAAAAABwAHAAcABwAAAAAAAAAAAAAAAAAAAAAABwAHAAcABwAHAAcAAAAAAAAABwAHAAcABwAHAAcABwAHAAcABwAAAAAAAAAAAAAABwAHAAcAAAAAAAAAAAAHAAcABwAHAAAAAAAAAAAABwAHAAcABwAAAAAAAAAAAAAABwAHAAcAAAAAAAAAAAAHAAcABwAHAAAAAAAAAAAAAAAHAAcABwAHAAcAAAAAAAAAAAAAAAAABwAHAAcABwAHAAcAAAAAAAAAAAAAAAAABwAHAAcABwAHAAcAAAAAAAAAAAAAAAAAAAAAAAAAAAAAAAAABwAHAAcAAAAAAAAAAAAHAAcABwAHAAcAAAAAAAAABwAHAAcABwAHAAcAAAAAAAAABwAHAAcABwAHAAcABwAHAAcAAAAAAAAAAAAAAAAAAAAAAAAAAAAHAAcABwAHAAAAAAAAAAAABwAHAAcABwAHAAcABwAHAAcABwAHAAcABwAHAAcAAAAAAAAABwAHAAcAAAAAAAAABwAHAAcABwAHAAcABwAHAAcAAAAAAAAABwAHAAcABwAHAAcAAAAAAAAAAAAAAAAABwAHAAcAAAAAAAAABwAHAAcAAAAAAAAABwAHAAcAAAAAAAAAAAAAAAAAAAAAAAAABwAHAAcAAAAAAAAAAAAAAAAAAAAAAAAAAAAAAAAAAAAAAAAAAAAAAAAAAAAAAAAABwAHAAcABwAHAAcABwAHAAcABwAHAAcABwAAAAAAAAAAAAAAAAAAAAAABwAHAAcABwAHAAcAAAAAAAAABwAHAAcAAAAAAAAABwAHAAcABwAHAAcABwAHAAcABwAHAAcAAAAAAAAAAAAAAAAABwAHAAcAAAAAAAAABwAHAAcAAAAAAAAABwAHAAcABwAHAAcABwAHAAcAAAAAAAAABwAHAAcAAAAAAAAAAAAAAAAAAAAAAAAABwAHAAcABwAHAAcABwAHAAcAAAAAAAAAAAAAAAAAAAAAAAAABwAHAAcABwAHAAcAAAAAAAAAAAAAAAAAAAAAAAAAAAAHAAcABwAHAAAAAAAAAAAAAAAHAAcAAAAAAAAAAAAHAAcABwAHAAAAAAAAAAAABwAHAAcABwAAAAAAAAAAAAcABwAHAAcAAAAAAAAABwAHAAcAAAAAAAAAAAAHAAcABwAHAAAAAAAAAAAABwAHAAcAAAAAAAAABwAHAAcAAAAAAAAAAAAAAAAAAAAAAAAABwAHAAcAAAAAAAAABwAHAAcAAAAAAAAAAAAAAAAABwAHAAcA=\" type=\"audio/wav\" />\n",
       "                    Your browser does not support the audio element.\n",
       "                </audio>\n",
       "              "
      ],
      "text/plain": [
       "<IPython.lib.display.Audio object>"
      ]
     },
     "metadata": {},
     "output_type": "display_data"
    },
    {
     "name": "stdout",
     "output_type": "stream",
     "text": [
      "Speaker:\u001b[91m 99\u001b[0m\tPredicted:\u001b[91m 51\u001b[0m\n"
     ]
    },
    {
     "data": {
      "text/html": [
       "\n",
       "                <audio  controls=\"controls\" >\n",
       "                    <source src=\"data:audio/wav;base64,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\" type=\"audio/wav\" />\n",
       "                    Your browser does not support the audio element.\n",
       "                </audio>\n",
       "              "
      ],
      "text/plain": [
       "<IPython.lib.display.Audio object>"
      ]
     },
     "metadata": {},
     "output_type": "display_data"
    },
    {
     "name": "stdout",
     "output_type": "stream",
     "text": [
      "Speaker:\u001b[92m 55\u001b[0m\tPredicted:\u001b[92m 55\u001b[0m\n"
     ]
    },
    {
     "data": {
      "text/html": [
       "\n",
       "                <audio  controls=\"controls\" >\n",
       "                    <source src=\"data:audio/wav;base64,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\" type=\"audio/wav\" />\n",
       "                    Your browser does not support the audio element.\n",
       "                </audio>\n",
       "              "
      ],
      "text/plain": [
       "<IPython.lib.display.Audio object>"
      ]
     },
     "metadata": {},
     "output_type": "display_data"
    },
    {
     "name": "stdout",
     "output_type": "stream",
     "text": [
      "Speaker:\u001b[91m 75\u001b[0m\tPredicted:\u001b[91m 33\u001b[0m\n"
     ]
    },
    {
     "name": "stderr",
     "output_type": "stream",
     "text": [
      "/Users/danielhill/Documents/AdvancedMachineLearningFinal/.venv/lib/python3.12/site-packages/IPython/lib/display.py:187: RuntimeWarning: invalid value encountered in divide\n",
      "  scaled = data / normalization_factor * 32767\n",
      "/Users/danielhill/Documents/AdvancedMachineLearningFinal/.venv/lib/python3.12/site-packages/IPython/lib/display.py:188: RuntimeWarning: invalid value encountered in cast\n",
      "  return scaled.astype(\"<h\").tobytes(), nchan\n"
     ]
    },
    {
     "data": {
      "text/html": [
       "\n",
       "                <audio  controls=\"controls\" >\n",
       "                    <source src=\"data:audio/wav;base64,UklGRtwLAABXQVZFZm10IBAAAAABAAEA3AUAALgLAAACABAAZGF0YbgLAAAAAAAAAAAAAAAAAAAAAAAAAAAAAAAAAAAAAAAAAAAAAAAAAAAAAAAAAAAAAAAAAAAAAAAAAAAAAAAAAAAAAAAAAAAAAAAAAAAAAAAAAAAAAAAAAAAAAAAAAAAAAAAAAAAAAAAAAAAAAAAAAAAAAAAAAAAAAAAAAAAAAAAAAAAAAAAAAAAAAAAAAAAAAAAAAAAAAAAAAAAAAAAAAAAAAAAAAAAAAAAAAAAAAAAAAAAAAAAAAAAAAAAAAAAAAAAAAAAAAAAAAAAAAAAAAAAAAAAAAAAAAAAAAAAAAAAAAAAAAAAAAAAAAAAAAAAAAAAAAAAAAAAAAAAAAAAAAAAAAAAAAAAAAAAAAAAAAAAAAAAAAAAAAAAAAAAAAAAAAAAAAAAAAAAAAAAAAAAAAAAAAAAAAAAAAAAAAAAAAAAAAAAAAAAAAAAAAAAAAAAAAAAAAAAAAAAAAAAAAAAAAAAAAAAAAAAAAAAAAAAAAAAAAAAAAAAAAAAAAAAAAAAAAAAAAAAAAAAAAAAAAAAAAAAAAAAAAAAAAAAAAAAAAAAAAAAAAAAAAAAAAAAAAAAAAAAAAAAAAAAAAAAAAAAAAAAAAAAAAAAAAAAAAAAAAAAAAAAAAAAAAAAAAAAAAAAAAAAAAAAAAAAAAAAAAAAAAAAAAAAAAAAAAAAAAAAAAAAAAAAAAAAAAAAAAAAAAAAAAAAAAAAAAAAAAAAAAAAAAAAAAAAAAAAAAAAAAAAAAAAAAAAAAAAAAAAAAAAAAAAAAAAAAAAAAAAAAAAAAAAAAAAAAAAAAAAAAAAAAAAAAAAAAAAAAAAAAAAAAAAAAAAAAAAAAAAAAAAAAAAAAAAAAAAAAAAAAAAAAAAAAAAAAAAAAAAAAAAAAAAAAAAAAAAAAAAAAAAAAAAAAAAAAAAAAAAAAAAAAAAAAAAAAAAAAAAAAAAAAAAAAAAAAAAAAAAAAAAAAAAAAAAAAAAAAAAAAAAAAAAAAAAAAAAAAAAAAAAAAAAAAAAAAAAAAAAAAAAAAAAAAAAAAAAAAAAAAAAAAAAAAAAAAAAAAAAAAAAAAAAAAAAAAAAAAAAAAAAAAAAAAAAAAAAAAAAAAAAAAAAAAAAAAAAAAAAAAAAAAAAAAAAAAAAAAAAAAAAAAAAAAAAAAAAAAAAAAAAAAAAAAAAAAAAAAAAAAAAAAAAAAAAAAAAAAAAAAAAAAAAAAAAAAAAAAAAAAAAAAAAAAAAAAAAAAAAAAAAAAAAAAAAAAAAAAAAAAAAAAAAAAAAAAAAAAAAAAAAAAAAAAAAAAAAAAAAAAAAAAAAAAAAAAAAAAAAAAAAAAAAAAAAAAAAAAAAAAAAAAAAAAAAAAAAAAAAAAAAAAAAAAAAAAAAAAAAAAAAAAAAAAAAAAAAAAAAAAAAAAAAAAAAAAAAAAAAAAAAAAAAAAAAAAAAAAAAAAAAAAAAAAAAAAAAAAAAAAAAAAAAAAAAAAAAAAAAAAAAAAAAAAAAAAAAAAAAAAAAAAAAAAAAAAAAAAAAAAAAAAAAAAAAAAAAAAAAAAAAAAAAAAAAAAAAAAAAAAAAAAAAAAAAAAAAAAAAAAAAAAAAAAAAAAAAAAAAAAAAAAAAAAAAAAAAAAAAAAAAAAAAAAAAAAAAAAAAAAAAAAAAAAAAAAAAAAAAAAAAAAAAAAAAAAAAAAAAAAAAAAAAAAAAAAAAAAAAAAAAAAAAAAAAAAAAAAAAAAAAAAAAAAAAAAAAAAAAAAAAAAAAAAAAAAAAAAAAAAAAAAAAAAAAAAAAAAAAAAAAAAAAAAAAAAAAAAAAAAAAAAAAAAAAAAAAAAAAAAAAAAAAAAAAAAAAAAAAAAAAAAAAAAAAAAAAAAAAAAAAAAAAAAAAAAAAAAAAAAAAAAAAAAAAAAAAAAAAAAAAAAAAAAAAAAAAAAAAAAAAAAAAAAAAAAAAAAAAAAAAAAAAAAAAAAAAAAAAAAAAAAAAAAAAAAAAAAAAAAAAAAAAAAAAAAAAAAAAAAAAAAAAAAAAAAAAAAAAAAAAAAAAAAAAAAAAAAAAAAAAAAAAAAAAAAAAAAAAAAAAAAAAAAAAAAAAAAAAAAAAAAAAAAAAAAAAAAAAAAAAAAAAAAAAAAAAAAAAAAAAAAAAAAAAAAAAAAAAAAAAAAAAAAAAAAAAAAAAAAAAAAAAAAAAAAAAAAAAAAAAAAAAAAAAAAAAAAAAAAAAAAAAAAAAAAAAAAAAAAAAAAAAAAAAAAAAAAAAAAAAAAAAAAAAAAAAAAAAAAAAAAAAAAAAAAAAAAAAAAAAAAAAAAAAAAAAAAAAAAAAAAAAAAAAAAAAAAAAAAAAAAAAAAAAAAAAAAAAAAAAAAAAAAAAAAAAAAAAAAAAAAAAAAAAAAAAAAAAAAAAAAAAAAAAAAAAAAAAAAAAAAAAAAAAAAAAAAAAAAAAAAAAAAAAAAAAAAAAAAAAAAAAAAAAAAAAAAAAAAAAAAAAAAAAAAAAAAAAAAAAAAAAAAAAAAAAAAAAAAAAAAAAAAAAAAAAAAAAAAAAAAAAAAAAAAAAAAAAAAAAAAAAAAAAAAAAAAAAAAAAAAAAAAAAAAAAAAAAAAAAAAAAAAAAAAAAAAAAAAAAAAAAAAAAAAAAAAAAAAAAAAAAAAAAAAAAAAAAAAAAAAAAAAAAAAAAAAAAAAAAAAAAAAAAAAAAAAAAAAAAAAAAAAAAAAAAAAAAAAAAAAAAAAAAAAAAAAAAAAAAAAAAAAAAAAAAAAAAAAAAAAAAAAAAAAAAAAAAAAAAAAAAAAAAAAAAAAAAAAAAAAAAAAAAAAAAAAAAAAAAAAAAAAAAAAAAAAAAAAAAAAAAAAAAAAAAAAAAAAAAAAAAAAAAAAAAAAAAAAAAAAAAAAAAAAAAAAAAAAAAAAAAAAAAAAAAAAAAAAAAAAAAAAAAAAAAAAAAAAAAAAAAAAAAAAAAAAAAAAAAAAAAAAAAAAAAAAAAAAAAAAAAAAAAAAAAAAAAAAAAAAAAAAAAAAAAAAAAAAAAAAAAAAAAAAAAAAAAAAAAAAAAAAAAAAAAAAAAAAAAAAAAAAAAAAAAAAAAAAAAAAAAAAAAAAAAAAAAAAAAAAAAAAAAAAAAAAAAAAAAAAAAAAAAAAAAAAAAAAAAAAAAAAAAAAAAAAAAAAAAAAAAAAAAAAAAAAAAAAAAAAAAAAAAAAAAAAAAAAAAAAAAAAAAAAAAAAAAAAAAAAAAAAAAAAAAAAAAAAAAAAAAAAAAAAAAAAAAAAAAAAAAAAAAAAAAAAAAAAAAAAAAAAAAAAAAAAAAAAAAAAAAAAAAAAAAAAAAAAAAAAAAAAAAAAAAAAAAAAAAAAAAAAAAAAAAAAAAAAAAAAAAAAAAAAAAAAAAAAAAAAAAAAAAAAAAAAAAAAAAAAAAAAAAAAAAAAAAAAAAAAAAAAAAAAAAAAAAAAAAAAAAAAAAAAAAAAAAAAAAAAAAAAAAAAAAAAAAAAAAAAAAAAAAAAAAAAAAAAAAAAAAAAAAAAAAAAAAAAAAAAAAAAAAAAAAAAAAAAAAAAAAAAAAAAAAAAAAAAAAAAAAAAAAAAAAAAAAAAAAAAAAAAAAAAAAAAAAAAAAAAAAAAAAAAAAAAAAAAAAAAAAAAAAAAAAAAAAAAAAAAAAAAAAAAAAAAAAAAAAAAAAAAAAAAAAAAAAAAAAAAAAAAAAAAAAAAAAAAAAAAAAAAAAAAAAAAAAAAAAAAAAAAAAAAAAAAAAAAAAAAAAAAAAAAAAAAAAAAAAAAAAAAAAAAAAAAAAAAAAAAAAAAAAAAAAAAAAAAAAAAAAAAAAAAAAAAAAAAAAAAAAAAAAAAAAAAAAAAAAAAAAAAAAAAAAAAAAAAAAAAAAAAAAAAAAAAAAAAAAAAAAAAAAAAAAAAAAAAAAAAAAAAAAAAAAAAAAAAAAAAAAAAAAAAAAAAAAAAAAAAAAAAAAAAAAAAAAAAAAAAAAAAAAAAAAAAAAAAAAAAAAAAAAAAAAAAAAAAAAAAAAAAAAAAAAAAAAAAAAAAAA=\" type=\"audio/wav\" />\n",
       "                    Your browser does not support the audio element.\n",
       "                </audio>\n",
       "              "
      ],
      "text/plain": [
       "<IPython.lib.display.Audio object>"
      ]
     },
     "metadata": {},
     "output_type": "display_data"
    },
    {
     "name": "stdout",
     "output_type": "stream",
     "text": [
      "Speaker:\u001b[91m 111\u001b[0m\tPredicted:\u001b[91m 16\u001b[0m\n"
     ]
    },
    {
     "data": {
      "text/html": [
       "\n",
       "                <audio  controls=\"controls\" >\n",
       "                    <source src=\"data:audio/wav;base64,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\" type=\"audio/wav\" />\n",
       "                    Your browser does not support the audio element.\n",
       "                </audio>\n",
       "              "
      ],
      "text/plain": [
       "<IPython.lib.display.Audio object>"
      ]
     },
     "metadata": {},
     "output_type": "display_data"
    },
    {
     "name": "stdout",
     "output_type": "stream",
     "text": [
      "Speaker:\u001b[91m 40\u001b[0m\tPredicted:\u001b[91m 66\u001b[0m\n"
     ]
    },
    {
     "data": {
      "text/html": [
       "\n",
       "                <audio  controls=\"controls\" >\n",
       "                    <source src=\"data:audio/wav;base64,UklGRtwLAABXQVZFZm10IBAAAAABAAEA3AUAALgLAAACABAAZGF0YbgLAAABwAHAAcABwAHAAcABgAHAAcAAAAAAAAABwAHAAcAAAAAA/z8AAAAAAAAAAAAA/z//PwAAAAABwAHAAcABwAHAAcABwAHAAcAAAAAAAAABwAHAAYABgAHAAcABwAHAAYABgAHAAcAAAAAAAAABwAHAAYABgAHAAcAAAAAAAAAAAAAA/z//PwAAAAABwAHAAcAAAAAAAAAAAAHAAcABwAHAAcABwAHAAYABgAHAAcAAAAAAAAAAAAAAAAAAAAAAAAABwAHAAcABwAHAAcABwAHAAcABwAHAAcABwAHAAYABgAHAAcAAAAAAAAAAAAAAAAAAAAAAAAAAAAAA/z//P/8/AAAAAAHAAcABwAHAAcABwAHAAcABwAHAAcABwAHAAYABgAHAAcAAAAAAAAABwAHAAcAAAAAAAAAAAAAAAAD/PwAAAAABwAHAAcAAAAAA/z//PwAAAAD/PwAAAAAAAAHAAcAAAAAAAAAAAAAAAAAAAAAAAAABwAHAAcABwAAAAAAAAAAAAcABwAHAAcAAAAAAAAABwAHAAcAAAAAAAAABwAHAAcABwAHAAcABwAHAAcABwAHAAcABwAHAAcAAAAAAAAABwAHAAcABwAHAAcABwAHAAcABwAHAAcAAAAAAAAABwAHAAcAAAAAAAAAAAAAAAAABwAHAAAAAAAAAAAAAAAHAAcABwAHAAcABwAHAAcAAAAAAAAAAAAAAAAAAAAAAAAABwAHAAcABwAHAAcAAAAAAAAAAAAAAAAABwAHAAcAAAAAAAAAAAAAAAAAAAAAAAAABwAHAAcAAAAAAAAABwAHAAcABwAHAAcABwAHAAcAAAAAAAAABwAHAAcAAAAAAAAABwAHAAcABwAHAAcABwAHAAcAAAAAAAAABwAHAAcAAAAAAAAABwAHAAcABwAHAAcABwAHAAcAAAAAAAAABwAHAAcAAAAAAAAAAAAAAAAAAAAAAAAAAAAAAAAAAAAAAAAAAAAHAAcABwAHAAcABwAHAAcABwAHAAcABwAHAAcAAAAAAAAABwAHAAcABwAHAAcAAAAAAAAAAAAAAAAABwAHAAcAAAAAAAAABwAHAAcAAAAAAAAABwAHAAcAAAAAAAAAAAAAAAAAAAAAAAAAAAAAAAAABwAHAAcAAAAAAAAABwAHAAcAAAAAAAAAAAAAAAAAAAAAAAAABwAHAAcAAAAAAAAABwAHAAcABwAAAAAAAAAAAAAABwAHAAcABwAHAAcABwAHAAcABwAHAAcABwAAAAAAAAAAAAAABwAHAAcABwAHAAcABwAHAAcABwAHAAcAAAAAAAAAAAAAAAAAAAAAAAAABwAHAAcABwAHAAcABwAHAAcABwAHAAcAAAAAAAAABwAHAAcABwAHAAcAAAAAAAAABwAHAAcABwAHAAcAAAAAAAAAAAAAAAAABwAHAAcABwAHAAcABwAHAAcABwAHAAcAAAAAAAAAAAAAAAAAAAAAAAAAAAAAAAAABwAHAAAAAAAAAAAABwAHAAcAAAAAAAAABwAHAAcAAAAAAAAABwAHAAcABwAHAAcABwAHAAcABwAHAAcABwAHAAcAAAAAAAAABwAHAAcAAAAAAAAABwAHAAcABwAHAAcABwAHAAcAAAAAAAAAAAAAAAAAAAAAAAAABwAHAAcAAAAAAAAAAAAHAAcABwAHAAcAAAAAAAAABwAHAAcABwAHAAcAAAAAAAAABwAHAAcABwAHAAcABwAHAAcAAAAAAAAAAAAAAAAAAAAAAAAAAAAAAAAAAAAAAAAAAAAAAAAAAAAAAAAABwAHAAcAAAAAAAAAAAAAAAAAAAAAAAAABwAHAAcABwAHAAcAAAAAAAAAAAAAAAAAAAAAAAAAAAAAAAAABwAHAAcABwAHAAcABwAHAAcABwAHAAcABwAAAAAAAAAAAAAABwAHAAcABwAHAAcAAAAAAAAABwAHAAcAAAAAAAAAAAAAAAAAAAAAAAAABwAHAAcABwAHAAcABwAHAAcAAAAAAAAABwAHAAcABwAHAAcAAAAAAAAABwAHAAcABwAHAAcABwAHAAcABwAHAAcABwAHAAcAAAAAAAAABwAHAAcABwAHAAcAAAAAAAAAAAAAAAAABwAHAAcABwAHAAcABwAHAAcABwAHAAcAAAAAAAAAAAAAAAAAAAAAAAAABwAHAAcAAAAAAAAABwAHAAcAAAAAAAAABwAHAAcAAAAAAAAAAAAAAAAAAAAAAAAAAAAAAAAAAAAAAAAABwAHAAcAAAAAAAAABwAHAAcAAAAAAAAABwAHAAcABwAHAAcABwAHAAcAAAAAAAAABwAHAAcABwAHAAcAAAAAAAAABwAHAAcABwAHAAcABwAHAAcAAAAAAAAAAAAAAAAAAAAAAAAAAAAAAAAAAAAHAAcABwAHAAcABwAHAAcAAAAAAAAAAAAAAAAABwAHAAcAAAAAAAAAAAAAAAAABwAHAAcAAAAAAAAABwAHAAcABwAHAAcABwAHAAcABwAAAAAAAAAAAAcABwAHAAcAAAAAAAAAAAAAAAAAAAAAAAAAAAAAAAAAAAAAAAAABwAHAAcAAAAAAAAAAAAAAAAAAAAAAAAAAAAAAAAAAAAAAAAABwAHAAcAAAAAAAAABwAHAAcABwAHAAcAAAAAAAAAAAAAAAAAAAAAAAAAAAAAAAAAAAAAAAAAAAAAAAAAAAAAAAAABwAHAAcABwAHAAcABwAHAAcAAAAAAAAABwAHAAcABwAAAAAAAAAAAAAAAAAAAAAABwAHAAcABwAHAAcAAAAAAAAABwAHAAcABwAHAAcABwAHAAcABwAAAAAAAAAAAAAABwAHAAcAAAAAAAAAAAAHAAcABwAHAAAAAAAAAAAABwAHAAcABwAAAAAAAAAAAAAABwAHAAcAAAAAAAAAAAAHAAcABwAHAAAAAAAAAAAAAAAHAAcABwAHAAcAAAAAAAAAAAAAAAAABwAHAAcABwAHAAcAAAAAAAAAAAAAAAAABwAHAAcABwAHAAcAAAAAAAAAAAAAAAAAAAAAAAAAAAAAAAAABwAHAAcAAAAAAAAAAAAHAAcABwAHAAcAAAAAAAAABwAHAAcABwAHAAcAAAAAAAAABwAHAAcABwAHAAcABwAHAAcAAAAAAAAAAAAAAAAAAAAAAAAAAAAHAAcABwAHAAAAAAAAAAAABwAHAAcABwAHAAcABwAHAAcABwAHAAcABwAHAAcAAAAAAAAABwAHAAcAAAAAAAAABwAHAAcABwAHAAcABwAHAAcAAAAAAAAABwAHAAcABwAHAAcAAAAAAAAAAAAAAAAABwAHAAcAAAAAAAAABwAHAAcAAAAAAAAABwAHAAcAAAAAAAAAAAAAAAAAAAAAAAAABwAHAAcAAAAAAAAAAAAAAAAAAAAAAAAAAAAAAAAAAAAAAAAAAAAAAAAAAAAAAAAABwAHAAcABwAHAAcABwAHAAcABwAHAAcABwAAAAAAAAAAAAAAAAAAAAAABwAHAAcABwAHAAcAAAAAAAAABwAHAAcAAAAAAAAABwAHAAcABwAHAAcABwAHAAcABwAHAAcAAAAAAAAAAAAAAAAABwAHAAcAAAAAAAAABwAHAAcAAAAAAAAABwAHAAcABwAHAAcABwAHAAcAAAAAAAAABwAHAAcAAAAAAAAAAAAAAAAAAAAAAAAABwAHAAcABwAHAAcABwAHAAcAAAAAAAAAAAAAAAAAAAAAAAAABwAHAAcABwAHAAcAAAAAAAAAAAAAAAAAAAAAAAAAAAAHAAcABwAHAAAAAAAAAAAAAAAHAAcAAAAAAAAAAAAHAAcABwAHAAAAAAAAAAAABwAHAAcABwAAAAAAAAAAAAcABwAHAAcAAAAAAAAABwAHAAcAAAAAAAAAAAAHAAcABwAHAAAAAAAAAAAABwAHAAcAAAAAAAAABwAHAAcAAAAAAAAAAAAAAAAAAAAAAAAABwAHAAcAAAAAAAAABwAHAAcAAAAAAAAAAAAAAAAABwAHAAcA=\" type=\"audio/wav\" />\n",
       "                    Your browser does not support the audio element.\n",
       "                </audio>\n",
       "              "
      ],
      "text/plain": [
       "<IPython.lib.display.Audio object>"
      ]
     },
     "metadata": {},
     "output_type": "display_data"
    },
    {
     "name": "stdout",
     "output_type": "stream",
     "text": [
      "Speaker:\u001b[92m 138\u001b[0m\tPredicted:\u001b[92m 138\u001b[0m\n"
     ]
    },
    {
     "data": {
      "text/html": [
       "\n",
       "                <audio  controls=\"controls\" >\n",
       "                    <source src=\"data:audio/wav;base64,UklGRtwLAABXQVZFZm10IBAAAAABAAEA3AUAALgLAAACABAAZGF0YbgLAABXAKn/pP6e/Zn86/s8++X6jvrg+TL52vja+DL5N/rl+jz7lPuU+5T7lPuU+5T7PPs8+476N/o3+o765fqU++v76/vr+5T76/tC/PD89v1N/k3+Tf5N/k3+pP5S/6n/qf9S//v+Tf6e/fD8mfxC/EL8QvyZ/PD8nv2k/lL/VwAFAbMBswEFAVcAAACp/1cArgCuAFcABQEQA3cGjQpGDZ0NkguCCHIFYgJS/+v71fdo81LvR+1H7VLvXfGv8JnsyuWf3SfXaNMR0xzVLNg9203etOEh5j3rWPC/88r11fdC/L4DTA7ZGLMhKyhBLPourTAKMmEyBTGdLTApZyP0HYcZyRUQE1cQ7wyCCL4DpP6O+iz4fvfV94P44PmU+579qf+zAb4DyQUrCDsL9A2oD/8Pow7qCzAJzgbEBLkCrgD2/eX61ffK9XP1J/fg+UL8R/3r+4P4v/NS7+vrjuqO6j3rQuxH7U3uqe+08Rb0ePYs+Nr4Mvky+eD54Pna+Hj2uvL77uvr4Ol+5xzltOH23Y7aMtmO2qTeF+SJ6Z/tBvHF9OD5AADOBpgMXBFsFCAWfRcrGDAZhxkwGdQXchVhEqMO5AomB2cDqf9C/IP4xfS08fvu9u377mPyJ/fw/AoCIAYwCZILRg2jDqgPrhCzEbkSEBNhEgURqA+oDwURZxMbFckVbBQKEvoO6guICdQHdwZyBcQEFQRnA2ICCgJiAmcDFQTEBGwEFQRsBHIFIAbJBb4DVwCZ/In51ffQ9nj2IfYh9tD2J/cn9yf31ffg+fb9uQLUB5gM/w+5EsMUdxYlFyUXdxZyFWwUZxMKElcQTA6YDDsLiAl9B8QEswH7/pn85frg+Yn52vja+Nr4ifmU+/b9VwAFAVcA9v08+zL5g/gy+Y766/ue/aT+qf9XAK4ArgAAAKT+R/08+zf6ifmJ+Y76lPtC/Ef99v2k/qn/qf9N/jz70PZj8qTuQuw96+Xq5erl6uXqjuo965nsTe4B8F3xDPIR8270yvV+9zL5lPv7/r4DMAlMDmESwxRyFXIVGxVsFL4TEBOzEagPRg2NCisIdwZyBcQEbARnAwoCVwBN/pn8PPs8+5T7QvxH/fb9qf9iAs4GmAwQE9kYmByjHvoeTB6dHUYdmBw2GiAWVxCICRAD9v03+n73c/UW9LryXfEB8FLvpO5N7qTuqe+08W70fvc3+jz7jvon97ryn+0y6dDmIeZ55n7n2+iO6kLs8Ozr69voF+RN3tvYHNVo02jTxdTQ1onZ8Nxd4XnmjupC7OXqJ+e64qrfpN4B4GPic+V+59vo4Ok36uXqlOvr60Ls8OxN7q/wY/IR8wbxR+0s6L/jWOCk3qTeAeBo4yzo++7V9woC7wx9FwUhhykFMSs4+j4aRd5JRk2iTp1N5Ep3RlxBQDyCOMk1FTS4Mq0wRi3ZKGcjTB42GtkYjRqjHsMkkiuzMSA2hzmSO+889D1LPvQ9Rj1APOQ6MDl8N8k1vjNcMUsu2SiuIHIV2Qjw/BHzQuzV53PlaOO04VjgUt9S3wbhaOPQ5uDp8Oyp7xHzJ/eU+1cAGwWICZgM+g7/D1cQrhCuEK4Qow7fCQoCLPhN7srl+9432tDWbtQR07rSaNMc1SfXidnr2/bdAeC64nPlMulH7bTxIfaO+qT+uQIgBoIIiAmICYIIzgZsBLMB+/5C/DL5yvUM8qTulOuJ6YPoLOjb6DfqlOuf7VLvXfG68hHzBvGZ7CHmqt/r20Lcr+B+56TuHPWJ+ev7R/32/Z79R/1C/OX6N/qO+uv79v1S/1cArgBiAhsFiAlMDrkSyRXOFs4WchUVFBATvhPJFYcZTB4KIholICZ3JncmzibUJ4cpkivvLEYtQSyHKXcmviO4ImcjICaHKe8soy5LLkEsMCnOJnIlciXJJSAmySVsJLgiViCdHTYaJRcbFRUUbBTJFdQX3xk7G5Ib5BrZGHIVBRHqC84GCgJN/jz7g/hz9V3xmezV5xfkDOIM4m7kg+if7RHzLPhC/Pv+qf+k/kL8ifkn9yH2ePZ+99r45frw/FL/BQGzAVwBqf/2/fD8mfzw/Ef9R/3r+zf6LPgh9m70Y/Kk7jLpaOP73kLcPduU25Tb5tqO2o7aPdtI3QHgEeN55onpmexY8Bb01ffl+kf9Uv9cARUEdwbUByYHFQRS/zL5DPKO6rriPdtu1KTO4MnQxm7EusKvwFO/AcAXxD3LxdSf3W7kMulC7FLvDPJo8xHzr/Dw7IPobuS04Vjgr+Bd4briF+Rz5dDmJ+fK5RHjWOCk3vver+C04bThqt/w3DfaMtmJ2ZTb9t2q36/gBuFd4QziaONu5BzlxeQX5GjjuuIM4gbhUt/w3I7ahNh+19XX29g32j3b5trb2HnWbtRu1HnWjtpS32jjyuUh5sXkaONj4mPiaOPF5HPlc+UX5GPir+AB4K/gaON+55nsXfEc9X73LPh+9xz1uvIG8VjwBvFo83j2Mvnl+pT75fqJ+Sz4ePZu9GPyAfD27fDsR+377rTxxfQs+Dz7Tf4FAb4DdwaCCDYKNgowCc4GGwVsBHIFKwg7C6MOChIgFuQaViDJJTYqSy5cMb4zcTXONs42dzZxNWw0vjMVNHE1JTfZON45OztAPPQ9qD9WQFZAUT+dPek73jl3Ng8zqC+jLqgvuDLJNSs42TjZONk4gjiCOCs4JTfJNWczrTD0LZIrMCnOJr4jViDvHIcZdxbDFL4TZxO5ErMRrhCoD6gP/w+uEAURVxCjDuoLiAl9ByAGFQRXAIn5BvHV56rfMtm/06rPmczmyo/KPctCzPHMSM1IzfbNpM5Tz/vOn803ysrFDMIBwAHABsGvwPa9hLgHsduoWKDbmAySSI3mij2L8Yz8jqqPTo49i3+HF4RkgruCHYXbiJqMWZDAkyeX5ppTn8Wkj6qvsHm2lLtYwG7E1cc3yuvLQsxCzOvLQsz2za/QEdMX1BHTr9BIzT3Lj8qUy/bNWNBj0hHTaNPF1H7Xmdxo4z3ruvI3+q4AdwaSCwURJRdGHb4jgig7Kzsr2SjJJbgiriCoH/8fXCG+IyUn3ik7KzsrNirZKCsogigwKTYq5CrkKuQq5CpBLEsuBTFnMxo1JTc2OqI+vkPTRzVKO0uSS+lLl0zvTO9M6UswSchFYUKoP/Q9nT2iPq1AvkN8R0BMs1EqWKJew2SHaUVtrXBsdDB5RX3/f6d/RX2BeGZznW0lZ1BfcVXeSZ09YTKHKRUkXCH/H0we7xzpG5IbmBz0HaMeTB5GHekbNhqCGM4WwxS5Ev8P7wzZCBUEpP6D+LTxN+q04YnZtdHmyhzFr8BIvTi61bcitsu1IrZ+t9u4MrnbuCe3HLVps7qyabMctSe34LlCvPy+XsFuxH7H4MmUy0LMlMuPyjLJJ8fFxAzCU79IvUK88bxNvq/AaMPKxS3Ij8pIzarPr9D7zo/KwMOavHm2wLPFtOC5Y8KZzNDWBuE36rTxfveO+uv7lPuU+0f9XAEmB6MOIBZBHAUhwySCKOkrSy70LTYqZyM7GxATmAyCCHcGzgbUB4gJkgtMDgURbBTUF+Qa9B2uIGEiZyMQI7MhqB/0HZgc7xz6HrMhwyQlJ9QnJSfJJWwkviO+IxolzibZKI0qNirUJ2cj9B2HGSAWbBRnEwoSrhBRD6MOTA6jDkwOnQ1BDDYK1AfJBRsFyQV9B98J6gudDaMOow6jDkwO9A1GDUEMOwvfCYIIdwYVBAUB9v08+4n52vja+DL5Mvks+CH2v/Nd8fvumezg6SfnxeRo4xHjF+TF5MXkbuRu5BzlIebQ5ifneebK5XPlIeZ+5zfq8Oyp72PybvR49tr4PPue/an/XAFnA3IF1AffCeoLnQ1RD1wREBPDFHcWKxjkGqMeECN8J+QqQSzkKiUnCiKYHH0XEBOjDo0KfQcgBiAGJgd9ByYHdwYgBiYHjQpRD8MUhxmdHQUhFSTOJjYqRi1RL/8v+i6YLDApdyZsJGcjuCI=\" type=\"audio/wav\" />\n",
       "                    Your browser does not support the audio element.\n",
       "                </audio>\n",
       "              "
      ],
      "text/plain": [
       "<IPython.lib.display.Audio object>"
      ]
     },
     "metadata": {},
     "output_type": "display_data"
    },
    {
     "name": "stdout",
     "output_type": "stream",
     "text": [
      "Speaker:\u001b[91m 9\u001b[0m\tPredicted:\u001b[91m 33\u001b[0m\n"
     ]
    },
    {
     "data": {
      "text/html": [
       "\n",
       "                <audio  controls=\"controls\" >\n",
       "                    <source src=\"data:audio/wav;base64,UklGRtwLAABXQVZFZm10IBAAAAABAAEA3AUAALgLAAACABAAZGF0YbgLAAAAAAAAAAAAAAAAAAAAAAAAAAAAAAAAAAAAAAAAAAAAAAAAAAAAAAAAAAAAAAAAAAAAAAAAAAAAAAAAAAAAAAAAAAAAAAAAAAAAAAAAAAAAAAAAAAAAAAAAAAAAAAAAAAAAAAAAAAAAAAAAAAAAAAAAAAAAAAAAAAAAAAAAAAAAAAAAAAAAAAAAAAAAAAAAAAAAAAAAAAAAAAAAAAAAAAAAAAAAAAAAAAAAAAAAAAAAAAAAAAAAAAAAAAAAAAAAAAAAAAAAAAAAAAAAAAAAAAAAAAAAAAAAAAAAAAAAAAAAAAAAAAAAAAAAAAAAAAAAAAAAAAAAAAAAAAAAAAAAAAAAAAAAAAAAAAAAAAAAAAAAAAAAAAAAAAAAAAAAAAAAAAAAAAAAAAAAAAAAAAAAAAAAAAAAAAAAAAAAAAAAAAAAAAAAAAAAAAAAAAAAAAAAAAAAAAAAAAAAAAAAAAAAAAAAAAAAAAAAAAAAAAAAAAAAAAAAAAAAAAAAAAAAAAAAAAAAAAAAAAAAAAAAAAAAAAAAAAAAAAAAAAAAAAAAAAAAAAAAAAAAAAAAAAAAAAAAAAAAAAAAAAAAAAAAAAAAAAAAAAAAAAAAAAAAAAAAAAAAAAAAAAAAAAAAAAAAAAAAAAAAAAAAAAAAAAAAAAAAAAAAAAAAAAAAAAAAAAAAAAAAAAAAAAAAAAAAAAAAAAAAAAAAAAAAAAAAAAAAAAAAAAAAAAAAAAAAAAAAAAAAAAAAAAAAAAAAAAAAAAAAAAAAAAAAAAAAAAAAAAAAAAAAAAAAAAAAAAAAAAAAAAAAAAAAAAAAAAAAAAAAAAAAAAAAAAAAAAAAAAAAAAAAAAAAAAAAAAAAAAAAAAAAAAAAAAAAAAAAAAAAAAAAAAAAAAAAAAAAAAAAAAAAAAAAAAAAAAAAAAAAAAAAAAAAAAAAAAAAAAAAAAAAAAAAAAAAAAAAAAAAAAAAAAAAAAAAAAAAAAAAAAAAAAAAAAAAAAAAAAAAAAAAAAAAAAAAAAAAAAAAAAAAAAAAAAAAAAAAAAAAAAAAAAAAAAAAAAAAAAAAAAAAAAAAAAAAAAAAAAAAAAAAAAAAAAAAAAAAAAAAAAAAAAAAAAAAAAAAAAAAAAAAAAAAAAAAAAAAAAAAAAAAAAAAAAAAAAAAAAAAAAAAAAAAAAAAAAAAAAAAAAAAAAAAAAAAAAAAAAAAAAAAAAAAAAAAAAAAAAAAAAAAAAAAAAAAAAAAAAAAAAAAAAAAAAAAAAAAAAAAAAAAAAAAAAAAAAAAAAAAAAAAAAAAAAAAAAAAAAAAAAAAAAAAAAAAAAAAAAAAAAAAAAAAAAAAAAAAAAAAAAAAAAAAAAAAAAAAAAAAAAAAAAAAAAAAAAAAAAAAAAAAAAAAAAAAAAAAAAAAAAAAAAAAAAAAAAAAAAAAAAAAAAAAAAAAAAAAAAAAAAAAAAAAAAAAAAAAAAAAAAAAAAAAAAAAAAAAAAAAAAAAAAAAAAAAAAAAAAAAAAAAAAAAAAAAAAAAAAAAAAAAAAAAAAAAAAAAAAAAAAAAAAAAAAAAAAAAAAAAAAAAAAAAAAAAAAAAAAAAAAAAAAAAAAAAAAAAAAAAAAAAAAAAAAAAAAAAAAAAAAAAAAAAAAAAAAAAAAAAAAAAAAAAAAAAAAAAAAAAAAAAAAAAAAAAAAAAAAAAAAAAAAAAAAAAAAAAAAAAAAAAAAAAAAAAAAAAAAAAAAAAAAAAAAAAAAAAAAAAAAAAAAAAAAAAAAAAAAAAAAAAAAAAAAAAAAAAAAAAAAAAAAAAAAAAAAAAAAAAAAAAAAAAAAAAAAAAAAAAAAAAAAAAAAAAAAAAAAAAAAAAAAAAAAAAAAAAAAAAAAAAAAAAAAAAAAAAAAAAAAAAAAAAAAAAAAAAAAAAAAAAAAAAAAAAAAAAAAAAAAAAAAAAAAAAAAAAAAAAAAAAAAAAAAAAAAAAAAAAAAAAAAAAAAAAAAAAAAAAAAAAAAAAAAAAAAAAAAAAAAAAAAAAAAAAAAAAAAAAAAAAAAAAAAAAAAAAAAAAAAAAAAAAAAAAAAAAAAAAAAAAAAAAAAAAAAAAAAAAAAAAAAAAAAAAAAAAAAAAAAAAAAAAAAAAAAAAAAAAAAAAAAAAAAAAAAAAAAAAAAAAAAAAAAAAAAAAAAAAAAAAAAAAAAAAAAAAAAAAAAAAAAAAAAAAAAAAAAAAAAAAAAAAAAAAAAAAAAAAAAAAAAAAAAAAAAAAAAAAAAAAAAAAAAAAAAAAAAAAAAAAAAAAAAAAAAAAAAAAAAAAAAAAAAAAAAAAAAAAAAAAAAAAAAAAAAAAAAAAAAAAAAAAAAAAAAAAAAAAAAAAAAAAAAAAAAAAAAAAAAAAAAAAAAAAAAAAAAAAAAAAAAAAAAAAAAAAAAAAAAAAAAAAAAAAAAAAAAAAAAAAAAAAAAAAAAAAAAAAAAAAAAAAAAAAAAAAAAAAAAAAAAAAAAAAAAAAAAAAAAAAAAAAAAAAAAAAAAAAAAAAAAAAAAAAAAAAAAAAAAAAAAAAAAAAAAAAAAAAAAAAAAAAAAAAAAAAAAAAAAAAAAAAAAAAAAAAAAAAAAAAAAAAAAAAAAAAAAAAAAAAAAAAAAAAAAAAAAAAAAAAAAAAAAAAAAAAAAAAAAAAAAAAAAAAAAAAAAAAAAAAAAAAAAAAAAAAAAAAAAAAAAAAAAAAAAAAAAAAAAAAAAAAAAAAAAAAAAAAAAAAAAAAAAAAAAAAAAAAAAAAAAAAAAAAAAAAAAAAAAAAAAAAAAAAAAAAAAAAAAAAAAAAAAAAAAAAAAAAAAAAAAAAAAAAAAAAAAAAAAAAAAAAAAAAAAAAAAAAAAAAAAAAAAAAAAAAAAAAAAAAAAAAAAAAAAAAAAAAAAAAAAAAAAAAAAAAAAAAAAAAAAAAAAAAAAAAAAAAAAAAAAAAAAAAAAAAAAAAAAAAAAAAAAAAAAAAAAAAAAAAAAAAAAAAAAAAAAAAAAAAAAAAAAAAAAAAAAAAAAAAAAAAAAAAAAAAAAAAAAAAAAAAAAAAAAAAAAAAAAAAAAAAAAAAAAAAAAAAAAAAAAAAAAAAAAAAAAAAAAAAAAAAAAAAAAAAAAAAAAAAAAAAAAAAAAAAAAAAAAAAAAAAAAAAAAAAAAAAAAAAAAAAAAAAAAAAAAAAAAAAAAAAAAAAAAAAAAAAAAAAAAAAAAAAAAAAAAAAAAAAAAAAAAAAAAAAAAAAAAAAAAAAAAAAAAAAAAAAAAAAAAAAAAAAAAAAAAAAAAAAAAAAAAAAAAAAAAAAAAAAAAAAAAAAAAAAAAAAAAAAAAAAAAAAAAAAAAAAAAAAAAAAAAAAAAAAAAAAAAAAAAAAAAAAAAAAAAAAAAAAAAAAAAAAAAAAAAAAAAAAAAAAAAAAAAAAAAAAAAAAAAAAAAAAAAAAAAAAAAAAAAAAAAAAAAAAAAAAAAAAAAAAAAAAAAAAAAAAAAAAAAAAAAAAAAAAAAAAAAAAAAAAAAAAAAAAAAAAAAAAAAAAAAAAAAAAAAAAAAAAAAAAAAAAAAAAAAAAAAAAAAAAAAAAAAAAAAAAAAAAAAAAAAAAAAAAAAAAAAAAAAAAAAAAAAAAAAAAAAAAAAAAAAAAAAAAAAAAAAAAAAAAAAAAAAAAAAAAAAAAAAAAAAAAAAAAAAAAAAAAAAAAAAAAAAAAAAAAAAAAAAAAAAAAAAAAAAAAAAAAAAAAAAAAAAAAAAAAAAAAAAAAAAAAAAAAAAAAAAAAAAAAAAAAAAAAAAAAAAAAAAAAAAAAAAAAAAAAAAAAAAAAAAAAAAAAAAAAAAAAAAAAAAAAAAAAAAAAAAAAAAAAAAAAAAAAAAAAAAAAAAAAAAAAAAAAAAAAAAAAAAAAAAAAAAAAAAAAAAAAAAAAAAAAAAAAAAAAAAAAAAAAAAAAAAAAAAAAAAAAAAAAAAAAAAAAAAAAAAAAAAAAAAAAAAAAAAAAAAAAAAAAAAAAAAAAAAAAAAAAAAAAAAAAAAAAAAA=\" type=\"audio/wav\" />\n",
       "                    Your browser does not support the audio element.\n",
       "                </audio>\n",
       "              "
      ],
      "text/plain": [
       "<IPython.lib.display.Audio object>"
      ]
     },
     "metadata": {},
     "output_type": "display_data"
    },
    {
     "name": "stdout",
     "output_type": "stream",
     "text": [
      "Speaker:\u001b[91m 45\u001b[0m\tPredicted:\u001b[91m 66\u001b[0m\n"
     ]
    },
    {
     "data": {
      "text/html": [
       "\n",
       "                <audio  controls=\"controls\" >\n",
       "                    <source src=\"data:audio/wav;base64,UklGRtwLAABXQVZFZm10IBAAAAABAAEA3AUAALgLAAACABAAZGF0YbgLAAABwAHAAcABwAHAAcABgAHAAcAAAAAAAAABwAHAAcAAAAAA/z8AAAAAAAAAAAAA/z//PwAAAAABwAHAAcABwAHAAcABwAHAAcAAAAAAAAABwAHAAYABgAHAAcABwAHAAYABgAHAAcAAAAAAAAABwAHAAYABgAHAAcAAAAAAAAAAAAAA/z//PwAAAAABwAHAAcAAAAAAAAAAAAHAAcABwAHAAcABwAHAAYABgAHAAcAAAAAAAAAAAAAAAAAAAAAAAAABwAHAAcABwAHAAcABwAHAAcABwAHAAcABwAHAAYABgAHAAcAAAAAAAAAAAAAAAAAAAAAAAAAAAAAA/z//P/8/AAAAAAHAAcABwAHAAcABwAHAAcABwAHAAcABwAHAAYABgAHAAcAAAAAAAAABwAHAAcAAAAAAAAAAAAAAAAD/PwAAAAABwAHAAcAAAAAA/z//PwAAAAD/PwAAAAAAAAHAAcAAAAAAAAAAAAAAAAAAAAAAAAABwAHAAcABwAAAAAAAAAAAAcABwAHAAcAAAAAAAAABwAHAAcAAAAAAAAABwAHAAcABwAHAAcABwAHAAcABwAHAAcABwAHAAcAAAAAAAAABwAHAAcABwAHAAcABwAHAAcABwAHAAcAAAAAAAAABwAHAAcAAAAAAAAAAAAAAAAABwAHAAAAAAAAAAAAAAAHAAcABwAHAAcABwAHAAcAAAAAAAAAAAAAAAAAAAAAAAAABwAHAAcABwAHAAcAAAAAAAAAAAAAAAAABwAHAAcAAAAAAAAAAAAAAAAAAAAAAAAABwAHAAcAAAAAAAAABwAHAAcABwAHAAcABwAHAAcAAAAAAAAABwAHAAcAAAAAAAAABwAHAAcABwAHAAcABwAHAAcAAAAAAAAABwAHAAcAAAAAAAAABwAHAAcABwAHAAcABwAHAAcAAAAAAAAABwAHAAcAAAAAAAAAAAAAAAAAAAAAAAAAAAAAAAAAAAAAAAAAAAAHAAcABwAHAAcABwAHAAcABwAHAAcABwAHAAcAAAAAAAAABwAHAAcABwAHAAcAAAAAAAAAAAAAAAAABwAHAAcAAAAAAAAABwAHAAcAAAAAAAAABwAHAAcAAAAAAAAAAAAAAAAAAAAAAAAAAAAAAAAABwAHAAcAAAAAAAAABwAHAAcAAAAAAAAAAAAAAAAAAAAAAAAABwAHAAcAAAAAAAAABwAHAAcABwAAAAAAAAAAAAAABwAHAAcABwAHAAcABwAHAAcABwAHAAcABwAAAAAAAAAAAAAABwAHAAcABwAHAAcABwAHAAcABwAHAAcAAAAAAAAAAAAAAAAAAAAAAAAABwAHAAcABwAHAAcABwAHAAcABwAHAAcAAAAAAAAABwAHAAcABwAHAAcAAAAAAAAABwAHAAcABwAHAAcAAAAAAAAAAAAAAAAABwAHAAcABwAHAAcABwAHAAcABwAHAAcAAAAAAAAAAAAAAAAAAAAAAAAAAAAAAAAABwAHAAAAAAAAAAAABwAHAAcAAAAAAAAABwAHAAcAAAAAAAAABwAHAAcABwAHAAcABwAHAAcABwAHAAcABwAHAAcAAAAAAAAABwAHAAcAAAAAAAAABwAHAAcABwAHAAcABwAHAAcAAAAAAAAAAAAAAAAAAAAAAAAABwAHAAcAAAAAAAAAAAAHAAcABwAHAAcAAAAAAAAABwAHAAcABwAHAAcAAAAAAAAABwAHAAcABwAHAAcABwAHAAcAAAAAAAAAAAAAAAAAAAAAAAAAAAAAAAAAAAAAAAAAAAAAAAAAAAAAAAAABwAHAAcAAAAAAAAAAAAAAAAAAAAAAAAABwAHAAcABwAHAAcAAAAAAAAAAAAAAAAAAAAAAAAAAAAAAAAABwAHAAcABwAHAAcABwAHAAcABwAHAAcABwAAAAAAAAAAAAAABwAHAAcABwAHAAcAAAAAAAAABwAHAAcAAAAAAAAAAAAAAAAAAAAAAAAABwAHAAcABwAHAAcABwAHAAcAAAAAAAAABwAHAAcABwAHAAcAAAAAAAAABwAHAAcABwAHAAcABwAHAAcABwAHAAcABwAHAAcAAAAAAAAABwAHAAcABwAHAAcAAAAAAAAAAAAAAAAABwAHAAcABwAHAAcABwAHAAcABwAHAAcAAAAAAAAAAAAAAAAAAAAAAAAABwAHAAcAAAAAAAAABwAHAAcAAAAAAAAABwAHAAcAAAAAAAAAAAAAAAAAAAAAAAAAAAAAAAAAAAAAAAAABwAHAAcAAAAAAAAABwAHAAcAAAAAAAAABwAHAAcABwAHAAcABwAHAAcAAAAAAAAABwAHAAcABwAHAAcAAAAAAAAABwAHAAcABwAHAAcABwAHAAcAAAAAAAAAAAAAAAAAAAAAAAAAAAAAAAAAAAAHAAcABwAHAAcABwAHAAcAAAAAAAAAAAAAAAAABwAHAAcAAAAAAAAAAAAAAAAABwAHAAcAAAAAAAAABwAHAAcABwAHAAcABwAHAAcABwAAAAAAAAAAAAcABwAHAAcAAAAAAAAAAAAAAAAAAAAAAAAAAAAAAAAAAAAAAAAABwAHAAcAAAAAAAAAAAAAAAAAAAAAAAAAAAAAAAAAAAAAAAAABwAHAAcAAAAAAAAABwAHAAcABwAHAAcAAAAAAAAAAAAAAAAAAAAAAAAAAAAAAAAAAAAAAAAAAAAAAAAAAAAAAAAABwAHAAcABwAHAAcABwAHAAcAAAAAAAAABwAHAAcABwAAAAAAAAAAAAAAAAAAAAAABwAHAAcABwAHAAcAAAAAAAAABwAHAAcABwAHAAcABwAHAAcABwAAAAAAAAAAAAAABwAHAAcAAAAAAAAAAAAHAAcABwAHAAAAAAAAAAAABwAHAAcABwAAAAAAAAAAAAAABwAHAAcAAAAAAAAAAAAHAAcABwAHAAAAAAAAAAAAAAAHAAcABwAHAAcAAAAAAAAAAAAAAAAABwAHAAcABwAHAAcAAAAAAAAAAAAAAAAABwAHAAcABwAHAAcAAAAAAAAAAAAAAAAAAAAAAAAAAAAAAAAABwAHAAcAAAAAAAAAAAAHAAcABwAHAAcAAAAAAAAABwAHAAcABwAHAAcAAAAAAAAABwAHAAcABwAHAAcABwAHAAcAAAAAAAAAAAAAAAAAAAAAAAAAAAAHAAcABwAHAAAAAAAAAAAABwAHAAcABwAHAAcABwAHAAcABwAHAAcABwAHAAcAAAAAAAAABwAHAAcAAAAAAAAABwAHAAcABwAHAAcABwAHAAcAAAAAAAAABwAHAAcABwAHAAcAAAAAAAAAAAAAAAAABwAHAAcAAAAAAAAABwAHAAcAAAAAAAAABwAHAAcAAAAAAAAAAAAAAAAAAAAAAAAABwAHAAcAAAAAAAAAAAAAAAAAAAAAAAAAAAAAAAAAAAAAAAAAAAAAAAAAAAAAAAAABwAHAAcABwAHAAcABwAHAAcABwAHAAcABwAAAAAAAAAAAAAAAAAAAAAABwAHAAcABwAHAAcAAAAAAAAABwAHAAcAAAAAAAAABwAHAAcABwAHAAcABwAHAAcABwAHAAcAAAAAAAAAAAAAAAAABwAHAAcAAAAAAAAABwAHAAcAAAAAAAAABwAHAAcABwAHAAcABwAHAAcAAAAAAAAABwAHAAcAAAAAAAAAAAAAAAAAAAAAAAAABwAHAAcABwAHAAcABwAHAAcAAAAAAAAAAAAAAAAAAAAAAAAABwAHAAcABwAHAAcAAAAAAAAAAAAAAAAAAAAAAAAAAAAHAAcABwAHAAAAAAAAAAAAAAAHAAcAAAAAAAAAAAAHAAcABwAHAAAAAAAAAAAABwAHAAcABwAAAAAAAAAAAAcABwAHAAcAAAAAAAAABwAHAAcAAAAAAAAAAAAHAAcABwAHAAAAAAAAAAAABwAHAAcAAAAAAAAABwAHAAcAAAAAAAAAAAAAAAAAAAAAAAAABwAHAAcAAAAAAAAABwAHAAcAAAAAAAAAAAAAAAAABwAHAAcA=\" type=\"audio/wav\" />\n",
       "                    Your browser does not support the audio element.\n",
       "                </audio>\n",
       "              "
      ],
      "text/plain": [
       "<IPython.lib.display.Audio object>"
      ]
     },
     "metadata": {},
     "output_type": "display_data"
    },
    {
     "name": "stdout",
     "output_type": "stream",
     "text": [
      "Speaker:\u001b[91m 99\u001b[0m\tPredicted:\u001b[91m 139\u001b[0m\n"
     ]
    },
    {
     "data": {
      "text/html": [
       "\n",
       "                <audio  controls=\"controls\" >\n",
       "                    <source src=\"data:audio/wav;base64,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\" type=\"audio/wav\" />\n",
       "                    Your browser does not support the audio element.\n",
       "                </audio>\n",
       "              "
      ],
      "text/plain": [
       "<IPython.lib.display.Audio object>"
      ]
     },
     "metadata": {},
     "output_type": "display_data"
    },
    {
     "name": "stderr",
     "output_type": "stream",
     "text": [
      "2024-06-08 17:32:38.617540: W tensorflow/core/framework/local_rendezvous.cc:404] Local rendezvous is aborting with status: OUT_OF_RANGE: End of sequence\n"
     ]
    }
   ],
   "source": [
    "# Set number of samples total to display\n",
    "SAMPLES_TO_DISPLAY = 10\n",
    "\n",
    "# Create testing data\n",
    "test_ds = paths_and_labels_to_dataset(test_audio_paths, test_labels)\n",
    "test_ds = test_ds.shuffle(buffer_size=BATCH_SIZE * 8, seed=SHUFFLE_SEED).batch(\n",
    "    BATCH_SIZE\n",
    ")\n",
    "\n",
    "# Iterate through and display the audio for the 10 random samples that were selected.\n",
    "for audios, labels in test_ds.take(1):\n",
    "    # Get the signal FFT\n",
    "    ffts = audio_to_fft(audios)\n",
    "    # Predict\n",
    "    y_pred = model.predict(ffts)\n",
    "    # Take random samples\n",
    "    rnd = np.random.randint(0, BATCH_SIZE, SAMPLES_TO_DISPLAY)\n",
    "    audios = audios.numpy()[rnd, :, :]\n",
    "    labels = labels.numpy()[rnd]\n",
    "    y_pred = np.argmax(y_pred, axis=-1)[rnd]\n",
    "\n",
    "    for index in range(SAMPLES_TO_DISPLAY):\n",
    "        # For every sample, print the true and predicted label\n",
    "        # as well as run the voice with the noise\n",
    "        print(\n",
    "            \"Speaker:\\33{} {}\\33[0m\\tPredicted:\\33{} {}\\33[0m\".format(\n",
    "                \"[92m\" if labels[index] == y_pred[index] else \"[91m\",\n",
    "                train_class_names[labels[index]],\n",
    "                \"[92m\" if labels[index] == y_pred[index] else \"[91m\",\n",
    "                train_class_names[y_pred[index]],\n",
    "            )\n",
    "        )\n",
    "        display(Audio(audios[index, :, :].squeeze(), rate=SAMPLING_RATE))"
   ]
  },
  {
   "cell_type": "markdown",
   "metadata": {},
   "source": [
    "After listening to these sounds that were either miscategorized or categorized correctly, I can understand why the algorithm may have a hard time picking up who was who."
   ]
  }
 ],
 "metadata": {
  "kernelspec": {
   "display_name": "Python 3",
   "language": "python",
   "name": "python3"
  },
  "language_info": {
   "codemirror_mode": {
    "name": "ipython",
    "version": 3
   },
   "file_extension": ".py",
   "mimetype": "text/x-python",
   "name": "python",
   "nbconvert_exporter": "python",
   "pygments_lexer": "ipython3",
   "version": "3.12.3"
  }
 },
 "nbformat": 4,
 "nbformat_minor": 2
}
